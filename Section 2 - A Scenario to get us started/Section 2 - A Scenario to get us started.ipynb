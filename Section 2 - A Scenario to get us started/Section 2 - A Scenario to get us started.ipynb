{
 "cells": [
  {
   "cell_type": "markdown",
   "id": "7baf4f68-4ef1-4fa5-b316-d1667dd3485e",
   "metadata": {},
   "source": [
    "## 7. Ingesting & Cleaning Data"
   ]
  },
  {
   "cell_type": "code",
   "execution_count": 1,
   "id": "f781eef2-9870-4b7b-99b4-772f10f7c8a3",
   "metadata": {},
   "outputs": [
    {
     "data": {
      "text/html": [
       "<style>pre { white-space: pre !important; }</style>"
      ],
      "text/plain": [
       "<IPython.core.display.HTML object>"
      ]
     },
     "metadata": {},
     "output_type": "display_data"
    }
   ],
   "source": [
    "from IPython.core.display import HTML\n",
    "display(HTML(\"<style>pre { white-space: pre !important; }</style>\"))"
   ]
  },
  {
   "cell_type": "code",
   "execution_count": 2,
   "id": "3c5f10cd-d47d-42f6-8d81-c6c010ed3853",
   "metadata": {},
   "outputs": [],
   "source": [
    "import findspark\n",
    "findspark.init()"
   ]
  },
  {
   "cell_type": "code",
   "execution_count": 3,
   "id": "0f853d66-c2ef-410b-bb16-54180e2a4ae0",
   "metadata": {},
   "outputs": [],
   "source": [
    "from pyspark.sql import SparkSession"
   ]
  },
  {
   "cell_type": "code",
   "execution_count": 4,
   "id": "dd655ebd-ce83-49a0-b8d3-b6d2a51d1816",
   "metadata": {},
   "outputs": [
    {
     "name": "stdout",
     "output_type": "stream",
     "text": [
      "None\n"
     ]
    }
   ],
   "source": [
    "print(findspark.init())"
   ]
  },
  {
   "cell_type": "code",
   "execution_count": 5,
   "id": "4cbeb78c-0805-441b-bc37-8eccbfd3089f",
   "metadata": {},
   "outputs": [],
   "source": [
    "spark = SparkSession.builder.master(\"local[*]\").getOrCreate()"
   ]
  },
  {
   "cell_type": "code",
   "execution_count": 6,
   "id": "7b43d856-6aac-44ef-9bbc-5fa8ab7bc389",
   "metadata": {},
   "outputs": [
    {
     "data": {
      "text/html": [
       "\n",
       "            <div>\n",
       "                <p><b>SparkSession - in-memory</b></p>\n",
       "                \n",
       "        <div>\n",
       "            <p><b>SparkContext</b></p>\n",
       "\n",
       "            <p><a href=\"http://Legion:4040\">Spark UI</a></p>\n",
       "\n",
       "            <dl>\n",
       "              <dt>Version</dt>\n",
       "                <dd><code>v3.5.0</code></dd>\n",
       "              <dt>Master</dt>\n",
       "                <dd><code>local[*]</code></dd>\n",
       "              <dt>AppName</dt>\n",
       "                <dd><code>pyspark-shell</code></dd>\n",
       "            </dl>\n",
       "        </div>\n",
       "        \n",
       "            </div>\n",
       "        "
      ],
      "text/plain": [
       "<pyspark.sql.session.SparkSession at 0x17f61d090d0>"
      ]
     },
     "execution_count": 6,
     "metadata": {},
     "output_type": "execute_result"
    }
   ],
   "source": [
    "spark"
   ]
  },
  {
   "cell_type": "code",
   "execution_count": 7,
   "id": "f99398ee-2ee1-485e-81ea-d08279b64d87",
   "metadata": {},
   "outputs": [],
   "source": [
    "mydata = spark.read.format('csv').option('header', 'true').load('original.csv')"
   ]
  },
  {
   "cell_type": "code",
   "execution_count": 8,
   "id": "e0968c1c-4d92-4d76-8b53-cb7273538dec",
   "metadata": {},
   "outputs": [
    {
     "name": "stdout",
     "output_type": "stream",
     "text": [
      "+---+----------+----------+------+---------------+--------------------+---------+----------+-----------+\n",
      "| id|first_name| last_name|gender|           City|            JobTitle|   Salary|  Latitude|  Longitude|\n",
      "+---+----------+----------+------+---------------+--------------------+---------+----------+-----------+\n",
      "|  1|   Melinde| Shilburne|Female|      Nowa Ruda| Assistant Professor|$57438.18|50.5774075| 16.4967184|\n",
      "|  2|  Kimberly|Von Welden|Female|         Bulgan|       Programmer II|$62846.60|48.8231572|103.5218199|\n",
      "|  3|    Alvera|  Di Boldi|Female|           NULL|                NULL|$57576.52|39.9947462|116.3397725|\n",
      "|  4|   Shannon| O'Griffin|  Male|  Divnomorskoye|Budget/Accounting...|$61489.23|44.5047212| 38.1300171|\n",
      "|  5|  Sherwood|   Macieja|  Male|      Mytishchi|            VP Sales|$63863.09|      NULL| 37.6489954|\n",
      "|  6|     Maris|      Folk|Female|Kinsealy-Drinan|      Civil Engineer|$30101.16|53.4266145| -6.1644997|\n",
      "|  7|     Masha|    Divers|Female|         Dachun|                NULL|$25090.87| 24.879416| 118.930111|\n",
      "|  8|   Goddart|     Flear|  Male|      Trélissac|Desktop Support T...|$46116.36|45.1905186|  0.7423124|\n",
      "|  9|      Roth|O'Cannavan|  Male|         Heitan|VP Product Manage...|$73697.10| 32.027934| 106.657113|\n",
      "| 10|      Bran|   Trahear|  Male|       Arbeláez|Mechanical System...|$68098.42|  4.272793| -74.416014|\n",
      "| 11|    Kylynn|   Lockart|Female|       El Cardo|Nuclear Power Eng...|$13604.63|     -5.85|-79.8833329|\n",
      "| 12|       Rey|    Meharg|Female|    Wangqingtuo|Systems Administr...|$73423.70| 39.172378| 116.931607|\n",
      "| 13|      Kerr|    Braden|  Male|      Sułkowice|Compensation Analyst|$33432.99|49.8151822| 19.3771749|\n",
      "| 14|    Mickie| Whanstall|  Male|    Springfield|Assistant Media P...|$50838.53|42.1014803|-72.5766759|\n",
      "| 15|    Kaspar|     Pally|  Male|         Chrást|  Analyst Programmer|$40163.03|49.7923299| 13.4915324|\n",
      "| 16|    Norbie|    Gwyllt|  Male|         Xijiao|              Editor|$32492.73|43.4945737|  5.8978018|\n",
      "| 17|    Claude|    Briant|Female|      Mieścisko|Research Assistan...|$51862.48|52.7441662| 17.3278637|\n",
      "| 18|     Thain|    Habbon|  Male| Foros do Trapo|     Design Engineer|$42135.67| 38.696249| -8.7098337|\n",
      "| 19|  Tiffanie|  Pattison|Female|    Jabungsisir|Senior Financial ...|$91925.08|-7.7232567|113.4686802|\n",
      "| 20|    Ettore|  Gerriets|  Male|          Pedra| Staff Accountant IV|$73921.33|40.7172049| -8.3625148|\n",
      "+---+----------+----------+------+---------------+--------------------+---------+----------+-----------+\n",
      "only showing top 20 rows\n",
      "\n"
     ]
    }
   ],
   "source": [
    "mydata.show()"
   ]
  },
  {
   "cell_type": "code",
   "execution_count": 9,
   "id": "dd943ed0-f732-4e68-a52e-703dad7727d9",
   "metadata": {},
   "outputs": [],
   "source": [
    "from pyspark.sql.functions import *"
   ]
  },
  {
   "cell_type": "code",
   "execution_count": 10,
   "id": "b3d7420f-d524-4f3b-8d86-884679032cf5",
   "metadata": {},
   "outputs": [],
   "source": [
    "mydata2 = mydata.withColumn('clean_city', when(mydata.City.isNull(), 'Unknown').otherwise(mydata.City))"
   ]
  },
  {
   "cell_type": "code",
   "execution_count": 11,
   "id": "1348439c-c36e-46e0-b6e7-3fb0e296ccc0",
   "metadata": {},
   "outputs": [
    {
     "name": "stdout",
     "output_type": "stream",
     "text": [
      "+---+----------+----------+------+---------------+--------------------+---------+----------+-----------+---------------+\n",
      "| id|first_name| last_name|gender|           City|            JobTitle|   Salary|  Latitude|  Longitude|     clean_city|\n",
      "+---+----------+----------+------+---------------+--------------------+---------+----------+-----------+---------------+\n",
      "|  1|   Melinde| Shilburne|Female|      Nowa Ruda| Assistant Professor|$57438.18|50.5774075| 16.4967184|      Nowa Ruda|\n",
      "|  2|  Kimberly|Von Welden|Female|         Bulgan|       Programmer II|$62846.60|48.8231572|103.5218199|         Bulgan|\n",
      "|  3|    Alvera|  Di Boldi|Female|           NULL|                NULL|$57576.52|39.9947462|116.3397725|        Unknown|\n",
      "|  4|   Shannon| O'Griffin|  Male|  Divnomorskoye|Budget/Accounting...|$61489.23|44.5047212| 38.1300171|  Divnomorskoye|\n",
      "|  5|  Sherwood|   Macieja|  Male|      Mytishchi|            VP Sales|$63863.09|      NULL| 37.6489954|      Mytishchi|\n",
      "|  6|     Maris|      Folk|Female|Kinsealy-Drinan|      Civil Engineer|$30101.16|53.4266145| -6.1644997|Kinsealy-Drinan|\n",
      "|  7|     Masha|    Divers|Female|         Dachun|                NULL|$25090.87| 24.879416| 118.930111|         Dachun|\n",
      "|  8|   Goddart|     Flear|  Male|      Trélissac|Desktop Support T...|$46116.36|45.1905186|  0.7423124|      Trélissac|\n",
      "|  9|      Roth|O'Cannavan|  Male|         Heitan|VP Product Manage...|$73697.10| 32.027934| 106.657113|         Heitan|\n",
      "| 10|      Bran|   Trahear|  Male|       Arbeláez|Mechanical System...|$68098.42|  4.272793| -74.416014|       Arbeláez|\n",
      "| 11|    Kylynn|   Lockart|Female|       El Cardo|Nuclear Power Eng...|$13604.63|     -5.85|-79.8833329|       El Cardo|\n",
      "| 12|       Rey|    Meharg|Female|    Wangqingtuo|Systems Administr...|$73423.70| 39.172378| 116.931607|    Wangqingtuo|\n",
      "| 13|      Kerr|    Braden|  Male|      Sułkowice|Compensation Analyst|$33432.99|49.8151822| 19.3771749|      Sułkowice|\n",
      "| 14|    Mickie| Whanstall|  Male|    Springfield|Assistant Media P...|$50838.53|42.1014803|-72.5766759|    Springfield|\n",
      "| 15|    Kaspar|     Pally|  Male|         Chrást|  Analyst Programmer|$40163.03|49.7923299| 13.4915324|         Chrást|\n",
      "| 16|    Norbie|    Gwyllt|  Male|         Xijiao|              Editor|$32492.73|43.4945737|  5.8978018|         Xijiao|\n",
      "| 17|    Claude|    Briant|Female|      Mieścisko|Research Assistan...|$51862.48|52.7441662| 17.3278637|      Mieścisko|\n",
      "| 18|     Thain|    Habbon|  Male| Foros do Trapo|     Design Engineer|$42135.67| 38.696249| -8.7098337| Foros do Trapo|\n",
      "| 19|  Tiffanie|  Pattison|Female|    Jabungsisir|Senior Financial ...|$91925.08|-7.7232567|113.4686802|    Jabungsisir|\n",
      "| 20|    Ettore|  Gerriets|  Male|          Pedra| Staff Accountant IV|$73921.33|40.7172049| -8.3625148|          Pedra|\n",
      "+---+----------+----------+------+---------------+--------------------+---------+----------+-----------+---------------+\n",
      "only showing top 20 rows\n",
      "\n"
     ]
    }
   ],
   "source": [
    "mydata2.show()"
   ]
  },
  {
   "cell_type": "code",
   "execution_count": 12,
   "id": "30c1dd61-7643-4484-9544-5085302a06b4",
   "metadata": {},
   "outputs": [],
   "source": [
    "mydata2 = mydata2.filter(mydata2.JobTitle.isNotNull())"
   ]
  },
  {
   "cell_type": "code",
   "execution_count": 13,
   "id": "8cb6f71d-f8ae-41f8-af8e-048964cd7cc5",
   "metadata": {},
   "outputs": [
    {
     "name": "stdout",
     "output_type": "stream",
     "text": [
      "+---+----------+----------+------+---------------+--------------------+---------+----------+-----------+---------------+\n",
      "| id|first_name| last_name|gender|           City|            JobTitle|   Salary|  Latitude|  Longitude|     clean_city|\n",
      "+---+----------+----------+------+---------------+--------------------+---------+----------+-----------+---------------+\n",
      "|  1|   Melinde| Shilburne|Female|      Nowa Ruda| Assistant Professor|$57438.18|50.5774075| 16.4967184|      Nowa Ruda|\n",
      "|  2|  Kimberly|Von Welden|Female|         Bulgan|       Programmer II|$62846.60|48.8231572|103.5218199|         Bulgan|\n",
      "|  4|   Shannon| O'Griffin|  Male|  Divnomorskoye|Budget/Accounting...|$61489.23|44.5047212| 38.1300171|  Divnomorskoye|\n",
      "|  5|  Sherwood|   Macieja|  Male|      Mytishchi|            VP Sales|$63863.09|      NULL| 37.6489954|      Mytishchi|\n",
      "|  6|     Maris|      Folk|Female|Kinsealy-Drinan|      Civil Engineer|$30101.16|53.4266145| -6.1644997|Kinsealy-Drinan|\n",
      "|  8|   Goddart|     Flear|  Male|      Trélissac|Desktop Support T...|$46116.36|45.1905186|  0.7423124|      Trélissac|\n",
      "|  9|      Roth|O'Cannavan|  Male|         Heitan|VP Product Manage...|$73697.10| 32.027934| 106.657113|         Heitan|\n",
      "| 10|      Bran|   Trahear|  Male|       Arbeláez|Mechanical System...|$68098.42|  4.272793| -74.416014|       Arbeláez|\n",
      "| 11|    Kylynn|   Lockart|Female|       El Cardo|Nuclear Power Eng...|$13604.63|     -5.85|-79.8833329|       El Cardo|\n",
      "| 12|       Rey|    Meharg|Female|    Wangqingtuo|Systems Administr...|$73423.70| 39.172378| 116.931607|    Wangqingtuo|\n",
      "| 13|      Kerr|    Braden|  Male|      Sułkowice|Compensation Analyst|$33432.99|49.8151822| 19.3771749|      Sułkowice|\n",
      "| 14|    Mickie| Whanstall|  Male|    Springfield|Assistant Media P...|$50838.53|42.1014803|-72.5766759|    Springfield|\n",
      "| 15|    Kaspar|     Pally|  Male|         Chrást|  Analyst Programmer|$40163.03|49.7923299| 13.4915324|         Chrást|\n",
      "| 16|    Norbie|    Gwyllt|  Male|         Xijiao|              Editor|$32492.73|43.4945737|  5.8978018|         Xijiao|\n",
      "| 17|    Claude|    Briant|Female|      Mieścisko|Research Assistan...|$51862.48|52.7441662| 17.3278637|      Mieścisko|\n",
      "| 18|     Thain|    Habbon|  Male| Foros do Trapo|     Design Engineer|$42135.67| 38.696249| -8.7098337| Foros do Trapo|\n",
      "| 19|  Tiffanie|  Pattison|Female|    Jabungsisir|Senior Financial ...|$91925.08|-7.7232567|113.4686802|    Jabungsisir|\n",
      "| 20|    Ettore|  Gerriets|  Male|          Pedra| Staff Accountant IV|$73921.33|40.7172049| -8.3625148|          Pedra|\n",
      "| 21|      Alon|  Chasteau|  Male|          Xin’e|     Web Developer I|$62755.85|  49.16291|  127.98658|          Xin’e|\n",
      "| 22|   Guthrey|    Johnke|  Male|         Xijiao|         Developer I|$13708.03|40.7576842| 23.1342184|         Xijiao|\n",
      "+---+----------+----------+------+---------------+--------------------+---------+----------+-----------+---------------+\n",
      "only showing top 20 rows\n",
      "\n"
     ]
    }
   ],
   "source": [
    "mydata2.show()"
   ]
  },
  {
   "cell_type": "code",
   "execution_count": 14,
   "id": "89778b70-5912-4add-9549-8526a75fe5ea",
   "metadata": {},
   "outputs": [],
   "source": [
    "mydata2 = mydata2.withColumn('clean_salary', mydata2.Salary.substr(2, 100).cast('float'))"
   ]
  },
  {
   "cell_type": "code",
   "execution_count": 15,
   "id": "9343c5fa-7f26-4981-8299-27ba61115ff5",
   "metadata": {},
   "outputs": [
    {
     "name": "stdout",
     "output_type": "stream",
     "text": [
      "+---+----------+----------+------+---------------+--------------------+---------+----------+-----------+---------------+------------+\n",
      "| id|first_name| last_name|gender|           City|            JobTitle|   Salary|  Latitude|  Longitude|     clean_city|clean_salary|\n",
      "+---+----------+----------+------+---------------+--------------------+---------+----------+-----------+---------------+------------+\n",
      "|  1|   Melinde| Shilburne|Female|      Nowa Ruda| Assistant Professor|$57438.18|50.5774075| 16.4967184|      Nowa Ruda|    57438.18|\n",
      "|  2|  Kimberly|Von Welden|Female|         Bulgan|       Programmer II|$62846.60|48.8231572|103.5218199|         Bulgan|     62846.6|\n",
      "|  4|   Shannon| O'Griffin|  Male|  Divnomorskoye|Budget/Accounting...|$61489.23|44.5047212| 38.1300171|  Divnomorskoye|    61489.23|\n",
      "|  5|  Sherwood|   Macieja|  Male|      Mytishchi|            VP Sales|$63863.09|      NULL| 37.6489954|      Mytishchi|    63863.09|\n",
      "|  6|     Maris|      Folk|Female|Kinsealy-Drinan|      Civil Engineer|$30101.16|53.4266145| -6.1644997|Kinsealy-Drinan|    30101.16|\n",
      "|  8|   Goddart|     Flear|  Male|      Trélissac|Desktop Support T...|$46116.36|45.1905186|  0.7423124|      Trélissac|    46116.36|\n",
      "|  9|      Roth|O'Cannavan|  Male|         Heitan|VP Product Manage...|$73697.10| 32.027934| 106.657113|         Heitan|     73697.1|\n",
      "| 10|      Bran|   Trahear|  Male|       Arbeláez|Mechanical System...|$68098.42|  4.272793| -74.416014|       Arbeláez|    68098.42|\n",
      "| 11|    Kylynn|   Lockart|Female|       El Cardo|Nuclear Power Eng...|$13604.63|     -5.85|-79.8833329|       El Cardo|    13604.63|\n",
      "| 12|       Rey|    Meharg|Female|    Wangqingtuo|Systems Administr...|$73423.70| 39.172378| 116.931607|    Wangqingtuo|     73423.7|\n",
      "| 13|      Kerr|    Braden|  Male|      Sułkowice|Compensation Analyst|$33432.99|49.8151822| 19.3771749|      Sułkowice|    33432.99|\n",
      "| 14|    Mickie| Whanstall|  Male|    Springfield|Assistant Media P...|$50838.53|42.1014803|-72.5766759|    Springfield|    50838.53|\n",
      "| 15|    Kaspar|     Pally|  Male|         Chrást|  Analyst Programmer|$40163.03|49.7923299| 13.4915324|         Chrást|    40163.03|\n",
      "| 16|    Norbie|    Gwyllt|  Male|         Xijiao|              Editor|$32492.73|43.4945737|  5.8978018|         Xijiao|    32492.73|\n",
      "| 17|    Claude|    Briant|Female|      Mieścisko|Research Assistan...|$51862.48|52.7441662| 17.3278637|      Mieścisko|    51862.48|\n",
      "| 18|     Thain|    Habbon|  Male| Foros do Trapo|     Design Engineer|$42135.67| 38.696249| -8.7098337| Foros do Trapo|    42135.67|\n",
      "| 19|  Tiffanie|  Pattison|Female|    Jabungsisir|Senior Financial ...|$91925.08|-7.7232567|113.4686802|    Jabungsisir|    91925.08|\n",
      "| 20|    Ettore|  Gerriets|  Male|          Pedra| Staff Accountant IV|$73921.33|40.7172049| -8.3625148|          Pedra|    73921.33|\n",
      "| 21|      Alon|  Chasteau|  Male|          Xin’e|     Web Developer I|$62755.85|  49.16291|  127.98658|          Xin’e|    62755.85|\n",
      "| 22|   Guthrey|    Johnke|  Male|         Xijiao|         Developer I|$13708.03|40.7576842| 23.1342184|         Xijiao|    13708.03|\n",
      "+---+----------+----------+------+---------------+--------------------+---------+----------+-----------+---------------+------------+\n",
      "only showing top 20 rows\n",
      "\n"
     ]
    }
   ],
   "source": [
    "mydata2.show()"
   ]
  },
  {
   "cell_type": "code",
   "execution_count": 16,
   "id": "cf99e3e0-f4c5-4791-bf00-6267df95c556",
   "metadata": {},
   "outputs": [],
   "source": [
    "mean = mydata2.groupBy().avg('clean_salary')"
   ]
  },
  {
   "cell_type": "code",
   "execution_count": 17,
   "id": "bf0a5bf2-6a86-4d73-a4c3-bf6ff3728acc",
   "metadata": {},
   "outputs": [
    {
     "data": {
      "text/plain": [
       "DataFrame[avg(clean_salary): double]"
      ]
     },
     "execution_count": 17,
     "metadata": {},
     "output_type": "execute_result"
    }
   ],
   "source": [
    "mean"
   ]
  },
  {
   "cell_type": "code",
   "execution_count": 18,
   "id": "24202b98-9d3b-4ed3-9558-6bbcd5da250f",
   "metadata": {},
   "outputs": [
    {
     "data": {
      "text/plain": [
       "[Row(avg(clean_salary)=55516.32088199837)]"
      ]
     },
     "execution_count": 18,
     "metadata": {},
     "output_type": "execute_result"
    }
   ],
   "source": [
    "mean.take(1)"
   ]
  },
  {
   "cell_type": "code",
   "execution_count": 19,
   "id": "6d1fa953-38f6-4505-9894-4736a852bfa4",
   "metadata": {},
   "outputs": [
    {
     "data": {
      "text/plain": [
       "Row(avg(clean_salary)=55516.32088199837)"
      ]
     },
     "execution_count": 19,
     "metadata": {},
     "output_type": "execute_result"
    }
   ],
   "source": [
    "mean.take(1)[0]"
   ]
  },
  {
   "cell_type": "code",
   "execution_count": 20,
   "id": "14807cbd-c3ae-438b-93f2-53f62125f2ff",
   "metadata": {},
   "outputs": [
    {
     "data": {
      "text/plain": [
       "55516.32088199837"
      ]
     },
     "execution_count": 20,
     "metadata": {},
     "output_type": "execute_result"
    }
   ],
   "source": [
    "mean.take(1)[0][0]"
   ]
  },
  {
   "cell_type": "code",
   "execution_count": 21,
   "id": "195bbfb9-f865-4c07-8edc-7d22ad0c8bb5",
   "metadata": {},
   "outputs": [],
   "source": [
    "mean = mean.take(1)[0][0]"
   ]
  },
  {
   "cell_type": "code",
   "execution_count": 22,
   "id": "69d1a202-352a-40bf-aef3-95412e5a1df3",
   "metadata": {},
   "outputs": [
    {
     "name": "stdout",
     "output_type": "stream",
     "text": [
      "55516.32088199837\n"
     ]
    }
   ],
   "source": [
    "print(mean)"
   ]
  },
  {
   "cell_type": "code",
   "execution_count": 23,
   "id": "f70560e2-b661-4093-9696-7ca6445bedcb",
   "metadata": {},
   "outputs": [],
   "source": [
    "from pyspark.sql.functions import lit # literal value\n",
    "# lit let's you set a static value as the value of a column\n",
    "mydata2 = mydata2.withColumn('new_salary', when(mydata2.clean_salary.isNull(), lit(mean)).otherwise(mydata2.clean_salary))"
   ]
  },
  {
   "cell_type": "code",
   "execution_count": 24,
   "id": "578fa8ad-46c8-471d-bd94-9523f42470f0",
   "metadata": {},
   "outputs": [
    {
     "name": "stdout",
     "output_type": "stream",
     "text": [
      "+---+----------+----------+------+---------------+--------------------+---------+----------+-----------+---------------+------------+----------------+\n",
      "| id|first_name| last_name|gender|           City|            JobTitle|   Salary|  Latitude|  Longitude|     clean_city|clean_salary|      new_salary|\n",
      "+---+----------+----------+------+---------------+--------------------+---------+----------+-----------+---------------+------------+----------------+\n",
      "|  1|   Melinde| Shilburne|Female|      Nowa Ruda| Assistant Professor|$57438.18|50.5774075| 16.4967184|      Nowa Ruda|    57438.18|   57438.1796875|\n",
      "|  2|  Kimberly|Von Welden|Female|         Bulgan|       Programmer II|$62846.60|48.8231572|103.5218199|         Bulgan|     62846.6|   62846.6015625|\n",
      "|  4|   Shannon| O'Griffin|  Male|  Divnomorskoye|Budget/Accounting...|$61489.23|44.5047212| 38.1300171|  Divnomorskoye|    61489.23|  61489.23046875|\n",
      "|  5|  Sherwood|   Macieja|  Male|      Mytishchi|            VP Sales|$63863.09|      NULL| 37.6489954|      Mytishchi|    63863.09|  63863.08984375|\n",
      "|  6|     Maris|      Folk|Female|Kinsealy-Drinan|      Civil Engineer|$30101.16|53.4266145| -6.1644997|Kinsealy-Drinan|    30101.16|  30101.16015625|\n",
      "|  8|   Goddart|     Flear|  Male|      Trélissac|Desktop Support T...|$46116.36|45.1905186|  0.7423124|      Trélissac|    46116.36|    46116.359375|\n",
      "|  9|      Roth|O'Cannavan|  Male|         Heitan|VP Product Manage...|$73697.10| 32.027934| 106.657113|         Heitan|     73697.1|   73697.1015625|\n",
      "| 10|      Bran|   Trahear|  Male|       Arbeláez|Mechanical System...|$68098.42|  4.272793| -74.416014|       Arbeláez|    68098.42|    68098.421875|\n",
      "| 11|    Kylynn|   Lockart|Female|       El Cardo|Nuclear Power Eng...|$13604.63|     -5.85|-79.8833329|       El Cardo|    13604.63|13604.6298828125|\n",
      "| 12|       Rey|    Meharg|Female|    Wangqingtuo|Systems Administr...|$73423.70| 39.172378| 116.931607|    Wangqingtuo|     73423.7|    73423.703125|\n",
      "| 13|      Kerr|    Braden|  Male|      Sułkowice|Compensation Analyst|$33432.99|49.8151822| 19.3771749|      Sułkowice|    33432.99|  33432.98828125|\n",
      "| 14|    Mickie| Whanstall|  Male|    Springfield|Assistant Media P...|$50838.53|42.1014803|-72.5766759|    Springfield|    50838.53|     50838.53125|\n",
      "| 15|    Kaspar|     Pally|  Male|         Chrást|  Analyst Programmer|$40163.03|49.7923299| 13.4915324|         Chrást|    40163.03|     40163.03125|\n",
      "| 16|    Norbie|    Gwyllt|  Male|         Xijiao|              Editor|$32492.73|43.4945737|  5.8978018|         Xijiao|    32492.73|  32492.73046875|\n",
      "| 17|    Claude|    Briant|Female|      Mieścisko|Research Assistan...|$51862.48|52.7441662| 17.3278637|      Mieścisko|    51862.48|  51862.48046875|\n",
      "| 18|     Thain|    Habbon|  Male| Foros do Trapo|     Design Engineer|$42135.67| 38.696249| -8.7098337| Foros do Trapo|    42135.67|    42135.671875|\n",
      "| 19|  Tiffanie|  Pattison|Female|    Jabungsisir|Senior Financial ...|$91925.08|-7.7232567|113.4686802|    Jabungsisir|    91925.08|    91925.078125|\n",
      "| 20|    Ettore|  Gerriets|  Male|          Pedra| Staff Accountant IV|$73921.33|40.7172049| -8.3625148|          Pedra|    73921.33|    73921.328125|\n",
      "| 21|      Alon|  Chasteau|  Male|          Xin’e|     Web Developer I|$62755.85|  49.16291|  127.98658|          Xin’e|    62755.85|   62755.8515625|\n",
      "| 22|   Guthrey|    Johnke|  Male|         Xijiao|         Developer I|$13708.03|40.7576842| 23.1342184|         Xijiao|    13708.03|13708.0302734375|\n",
      "+---+----------+----------+------+---------------+--------------------+---------+----------+-----------+---------------+------------+----------------+\n",
      "only showing top 20 rows\n",
      "\n"
     ]
    }
   ],
   "source": [
    "mydata2.show()"
   ]
  },
  {
   "cell_type": "code",
   "execution_count": 25,
   "id": "97f21681-3337-4d1e-b535-d2cc70f6be5a",
   "metadata": {},
   "outputs": [
    {
     "data": {
      "text/plain": [
       "Column<'(clean_salary IS NULL)'>"
      ]
     },
     "execution_count": 25,
     "metadata": {},
     "output_type": "execute_result"
    }
   ],
   "source": [
    "mydata2.clean_salary.isNull()"
   ]
  },
  {
   "cell_type": "code",
   "execution_count": 26,
   "id": "32610659-9da8-48fa-bfc0-06daece8a99c",
   "metadata": {},
   "outputs": [
    {
     "name": "stdout",
     "output_type": "stream",
     "text": [
      "+---+----------+---------+------+----+--------+------+--------+---------+----------+------------+----------+\n",
      "| id|first_name|last_name|gender|City|JobTitle|Salary|Latitude|Longitude|clean_city|clean_salary|new_salary|\n",
      "+---+----------+---------+------+----+--------+------+--------+---------+----------+------------+----------+\n",
      "+---+----------+---------+------+----+--------+------+--------+---------+----------+------------+----------+\n",
      "\n"
     ]
    }
   ],
   "source": [
    "from pyspark.sql.functions import col\n",
    "column_name = 'clean_salary'\n",
    "null_values_df = mydata2.filter(col(column_name).isNull())\n",
    "null_values_df.show()"
   ]
  },
  {
   "cell_type": "code",
   "execution_count": 27,
   "id": "a378bc96-9639-48c8-9c89-7be8fa3a32c3",
   "metadata": {},
   "outputs": [],
   "source": [
    "import numpy as np\n",
    "latitudes = mydata2.select('Latitude')"
   ]
  },
  {
   "cell_type": "code",
   "execution_count": 28,
   "id": "a2f45847-e50a-4d52-8afa-a161c75c7725",
   "metadata": {},
   "outputs": [
    {
     "name": "stdout",
     "output_type": "stream",
     "text": [
      "+----------+\n",
      "|  Latitude|\n",
      "+----------+\n",
      "|50.5774075|\n",
      "|48.8231572|\n",
      "|44.5047212|\n",
      "|      NULL|\n",
      "|53.4266145|\n",
      "|45.1905186|\n",
      "| 32.027934|\n",
      "|  4.272793|\n",
      "|     -5.85|\n",
      "| 39.172378|\n",
      "|49.8151822|\n",
      "|42.1014803|\n",
      "|49.7923299|\n",
      "|43.4945737|\n",
      "|52.7441662|\n",
      "| 38.696249|\n",
      "|-7.7232567|\n",
      "|40.7172049|\n",
      "|  49.16291|\n",
      "|40.7576842|\n",
      "+----------+\n",
      "only showing top 20 rows\n",
      "\n"
     ]
    }
   ],
   "source": [
    "latitudes.show()"
   ]
  },
  {
   "cell_type": "code",
   "execution_count": 29,
   "id": "9a2f2e46-557a-447a-b772-9dba9ce4fd18",
   "metadata": {},
   "outputs": [],
   "source": [
    "latitudes = latitudes.filter(latitudes.Latitude.isNotNull())"
   ]
  },
  {
   "cell_type": "code",
   "execution_count": 30,
   "id": "83f8c2d4-73b1-441c-8e3c-12f39adefdfb",
   "metadata": {},
   "outputs": [
    {
     "data": {
      "text/plain": [
       "DataFrame[Latitude: string]"
      ]
     },
     "execution_count": 30,
     "metadata": {},
     "output_type": "execute_result"
    }
   ],
   "source": [
    "latitudes"
   ]
  },
  {
   "cell_type": "code",
   "execution_count": 31,
   "id": "9657bbf0-7ee7-4b71-b987-0886b96bff7b",
   "metadata": {},
   "outputs": [
    {
     "name": "stdout",
     "output_type": "stream",
     "text": [
      "+----------+\n",
      "|  Latitude|\n",
      "+----------+\n",
      "|50.5774075|\n",
      "|48.8231572|\n",
      "|44.5047212|\n",
      "|53.4266145|\n",
      "|45.1905186|\n",
      "| 32.027934|\n",
      "|  4.272793|\n",
      "|     -5.85|\n",
      "| 39.172378|\n",
      "|49.8151822|\n",
      "|42.1014803|\n",
      "|49.7923299|\n",
      "|43.4945737|\n",
      "|52.7441662|\n",
      "| 38.696249|\n",
      "|-7.7232567|\n",
      "|40.7172049|\n",
      "|  49.16291|\n",
      "|40.7576842|\n",
      "|48.4902808|\n",
      "+----------+\n",
      "only showing top 20 rows\n",
      "\n"
     ]
    }
   ],
   "source": [
    "latitudes.show()"
   ]
  },
  {
   "cell_type": "code",
   "execution_count": 32,
   "id": "2ff57f2d-7325-4d91-9cb4-fc10972a32f9",
   "metadata": {},
   "outputs": [],
   "source": [
    "latitudes = latitudes.withColumn('latitude2', latitudes.Latitude.cast('float')).select('latitude2')"
   ]
  },
  {
   "cell_type": "code",
   "execution_count": 33,
   "id": "55f1815b-65dd-4c61-8057-c13378922840",
   "metadata": {},
   "outputs": [
    {
     "data": {
      "text/plain": [
       "DataFrame[latitude2: float]"
      ]
     },
     "execution_count": 33,
     "metadata": {},
     "output_type": "execute_result"
    }
   ],
   "source": [
    "latitudes"
   ]
  },
  {
   "cell_type": "code",
   "execution_count": 34,
   "id": "e1f483a9-03e5-4480-9ad5-06a36186c5a7",
   "metadata": {},
   "outputs": [
    {
     "name": "stdout",
     "output_type": "stream",
     "text": [
      "+----------+\n",
      "| latitude2|\n",
      "+----------+\n",
      "| 50.577408|\n",
      "|  48.82316|\n",
      "| 44.504723|\n",
      "| 53.426613|\n",
      "| 45.190517|\n",
      "| 32.027935|\n",
      "|  4.272793|\n",
      "|     -5.85|\n",
      "|  39.17238|\n",
      "|  49.81518|\n",
      "|  42.10148|\n",
      "|  49.79233|\n",
      "| 43.494576|\n",
      "| 52.744167|\n",
      "| 38.696247|\n",
      "|-7.7232566|\n",
      "| 40.717205|\n",
      "|  49.16291|\n",
      "| 40.757683|\n",
      "|  48.49028|\n",
      "+----------+\n",
      "only showing top 20 rows\n",
      "\n"
     ]
    }
   ],
   "source": [
    "latitudes.show()"
   ]
  },
  {
   "cell_type": "code",
   "execution_count": 35,
   "id": "02a3578e-d75b-4877-864e-446e2e3461c3",
   "metadata": {},
   "outputs": [],
   "source": [
    "median = np.median(latitudes.collect())"
   ]
  },
  {
   "cell_type": "code",
   "execution_count": 36,
   "id": "eda67de2-99ae-459e-957f-6c1b5b56b54b",
   "metadata": {},
   "outputs": [
    {
     "data": {
      "text/plain": [
       "31.93397331237793"
      ]
     },
     "execution_count": 36,
     "metadata": {},
     "output_type": "execute_result"
    }
   ],
   "source": [
    "median"
   ]
  },
  {
   "cell_type": "code",
   "execution_count": 37,
   "id": "d4314ab4-f783-4de7-b96f-e6044de5dc48",
   "metadata": {},
   "outputs": [],
   "source": [
    "mydata2 = mydata2.withColumn('lat', when(mydata2.Latitude.isNull(), lit(median)).otherwise(mydata2.Latitude))"
   ]
  },
  {
   "cell_type": "code",
   "execution_count": 38,
   "id": "f2dbf92c-4e8d-4299-bbb5-36da62e64c6e",
   "metadata": {},
   "outputs": [
    {
     "name": "stdout",
     "output_type": "stream",
     "text": [
      "+---+----------+----------+------+---------------+--------------------+---------+----------+-----------+---------------+------------+----------------+-----------------+\n",
      "| id|first_name| last_name|gender|           City|            JobTitle|   Salary|  Latitude|  Longitude|     clean_city|clean_salary|      new_salary|              lat|\n",
      "+---+----------+----------+------+---------------+--------------------+---------+----------+-----------+---------------+------------+----------------+-----------------+\n",
      "|  1|   Melinde| Shilburne|Female|      Nowa Ruda| Assistant Professor|$57438.18|50.5774075| 16.4967184|      Nowa Ruda|    57438.18|   57438.1796875|       50.5774075|\n",
      "|  2|  Kimberly|Von Welden|Female|         Bulgan|       Programmer II|$62846.60|48.8231572|103.5218199|         Bulgan|     62846.6|   62846.6015625|       48.8231572|\n",
      "|  4|   Shannon| O'Griffin|  Male|  Divnomorskoye|Budget/Accounting...|$61489.23|44.5047212| 38.1300171|  Divnomorskoye|    61489.23|  61489.23046875|       44.5047212|\n",
      "|  5|  Sherwood|   Macieja|  Male|      Mytishchi|            VP Sales|$63863.09|      NULL| 37.6489954|      Mytishchi|    63863.09|  63863.08984375|31.93397331237793|\n",
      "|  6|     Maris|      Folk|Female|Kinsealy-Drinan|      Civil Engineer|$30101.16|53.4266145| -6.1644997|Kinsealy-Drinan|    30101.16|  30101.16015625|       53.4266145|\n",
      "|  8|   Goddart|     Flear|  Male|      Trélissac|Desktop Support T...|$46116.36|45.1905186|  0.7423124|      Trélissac|    46116.36|    46116.359375|       45.1905186|\n",
      "|  9|      Roth|O'Cannavan|  Male|         Heitan|VP Product Manage...|$73697.10| 32.027934| 106.657113|         Heitan|     73697.1|   73697.1015625|        32.027934|\n",
      "| 10|      Bran|   Trahear|  Male|       Arbeláez|Mechanical System...|$68098.42|  4.272793| -74.416014|       Arbeláez|    68098.42|    68098.421875|         4.272793|\n",
      "| 11|    Kylynn|   Lockart|Female|       El Cardo|Nuclear Power Eng...|$13604.63|     -5.85|-79.8833329|       El Cardo|    13604.63|13604.6298828125|            -5.85|\n",
      "| 12|       Rey|    Meharg|Female|    Wangqingtuo|Systems Administr...|$73423.70| 39.172378| 116.931607|    Wangqingtuo|     73423.7|    73423.703125|        39.172378|\n",
      "| 13|      Kerr|    Braden|  Male|      Sułkowice|Compensation Analyst|$33432.99|49.8151822| 19.3771749|      Sułkowice|    33432.99|  33432.98828125|       49.8151822|\n",
      "| 14|    Mickie| Whanstall|  Male|    Springfield|Assistant Media P...|$50838.53|42.1014803|-72.5766759|    Springfield|    50838.53|     50838.53125|       42.1014803|\n",
      "| 15|    Kaspar|     Pally|  Male|         Chrást|  Analyst Programmer|$40163.03|49.7923299| 13.4915324|         Chrást|    40163.03|     40163.03125|       49.7923299|\n",
      "| 16|    Norbie|    Gwyllt|  Male|         Xijiao|              Editor|$32492.73|43.4945737|  5.8978018|         Xijiao|    32492.73|  32492.73046875|       43.4945737|\n",
      "| 17|    Claude|    Briant|Female|      Mieścisko|Research Assistan...|$51862.48|52.7441662| 17.3278637|      Mieścisko|    51862.48|  51862.48046875|       52.7441662|\n",
      "| 18|     Thain|    Habbon|  Male| Foros do Trapo|     Design Engineer|$42135.67| 38.696249| -8.7098337| Foros do Trapo|    42135.67|    42135.671875|        38.696249|\n",
      "| 19|  Tiffanie|  Pattison|Female|    Jabungsisir|Senior Financial ...|$91925.08|-7.7232567|113.4686802|    Jabungsisir|    91925.08|    91925.078125|       -7.7232567|\n",
      "| 20|    Ettore|  Gerriets|  Male|          Pedra| Staff Accountant IV|$73921.33|40.7172049| -8.3625148|          Pedra|    73921.33|    73921.328125|       40.7172049|\n",
      "| 21|      Alon|  Chasteau|  Male|          Xin’e|     Web Developer I|$62755.85|  49.16291|  127.98658|          Xin’e|    62755.85|   62755.8515625|         49.16291|\n",
      "| 22|   Guthrey|    Johnke|  Male|         Xijiao|         Developer I|$13708.03|40.7576842| 23.1342184|         Xijiao|    13708.03|13708.0302734375|       40.7576842|\n",
      "+---+----------+----------+------+---------------+--------------------+---------+----------+-----------+---------------+------------+----------------+-----------------+\n",
      "only showing top 20 rows\n",
      "\n"
     ]
    }
   ],
   "source": [
    "mydata2.show()"
   ]
  },
  {
   "cell_type": "markdown",
   "id": "903afd3b-2dd0-4807-b8c2-0d07e5e9ef28",
   "metadata": {},
   "source": [
    "## 8. Answering our scenario questions"
   ]
  },
  {
   "cell_type": "code",
   "execution_count": 39,
   "id": "7a47c2db-b6de-456b-8f65-b47a60f1361f",
   "metadata": {},
   "outputs": [],
   "source": [
    "import pyspark.sql.functions as sqlfunc"
   ]
  },
  {
   "cell_type": "code",
   "execution_count": 40,
   "id": "dc654711-ff59-4ef4-bd96-1e6ad5412d1b",
   "metadata": {},
   "outputs": [],
   "source": [
    "genders = mydata2.groupBy('gender').agg(sqlfunc.avg('new_salary'))"
   ]
  },
  {
   "cell_type": "code",
   "execution_count": 41,
   "id": "753f6d54-9483-4bfe-a6f8-4ca0c273abe7",
   "metadata": {},
   "outputs": [
    {
     "name": "stdout",
     "output_type": "stream",
     "text": [
      "+------+------------------+\n",
      "|gender|   avg(new_salary)|\n",
      "+------+------------------+\n",
      "|Female|55677.250125558036|\n",
      "|  Male| 55361.09385573019|\n",
      "+------+------------------+\n",
      "\n"
     ]
    }
   ],
   "source": [
    "genders.show()"
   ]
  },
  {
   "cell_type": "code",
   "execution_count": 42,
   "id": "38295c65-b291-4fd5-a3df-b1cf55e56f2a",
   "metadata": {},
   "outputs": [],
   "source": [
    "genders = mydata2.groupBy('gender').agg(sqlfunc.avg('new_salary').alias('AvgSalary'))"
   ]
  },
  {
   "cell_type": "code",
   "execution_count": 43,
   "id": "f0574186-298e-4265-9942-90d4e2c538fc",
   "metadata": {},
   "outputs": [
    {
     "name": "stdout",
     "output_type": "stream",
     "text": [
      "+------+------------------+\n",
      "|gender|         AvgSalary|\n",
      "+------+------------------+\n",
      "|Female|55677.250125558036|\n",
      "|  Male| 55361.09385573019|\n",
      "+------+------------------+\n",
      "\n"
     ]
    }
   ],
   "source": [
    "# which gender is paid more\n",
    "genders.show()"
   ]
  },
  {
   "cell_type": "markdown",
   "id": "0395058c-cff7-4f22-be01-36cdb0d463ac",
   "metadata": {},
   "source": [
    "#### per job role whether males or females are paid more\n"
   ]
  },
  {
   "cell_type": "code",
   "execution_count": 44,
   "id": "48ef972b-5262-4232-adeb-ad5b0ca24905",
   "metadata": {},
   "outputs": [],
   "source": [
    "df = mydata2.withColumn('female_salary', when(mydata2.gender == 'Female', mydata2.new_salary).otherwise(lit(0)))"
   ]
  },
  {
   "cell_type": "code",
   "execution_count": 45,
   "id": "57f550da-15bc-4911-af9b-5a7110c75797",
   "metadata": {},
   "outputs": [
    {
     "name": "stdout",
     "output_type": "stream",
     "text": [
      "+---+----------+----------+------+---------------+--------------------+---------+----------+-----------+---------------+------------+----------------+-----------------+----------------+\n",
      "| id|first_name| last_name|gender|           City|            JobTitle|   Salary|  Latitude|  Longitude|     clean_city|clean_salary|      new_salary|              lat|   female_salary|\n",
      "+---+----------+----------+------+---------------+--------------------+---------+----------+-----------+---------------+------------+----------------+-----------------+----------------+\n",
      "|  1|   Melinde| Shilburne|Female|      Nowa Ruda| Assistant Professor|$57438.18|50.5774075| 16.4967184|      Nowa Ruda|    57438.18|   57438.1796875|       50.5774075|   57438.1796875|\n",
      "|  2|  Kimberly|Von Welden|Female|         Bulgan|       Programmer II|$62846.60|48.8231572|103.5218199|         Bulgan|     62846.6|   62846.6015625|       48.8231572|   62846.6015625|\n",
      "|  4|   Shannon| O'Griffin|  Male|  Divnomorskoye|Budget/Accounting...|$61489.23|44.5047212| 38.1300171|  Divnomorskoye|    61489.23|  61489.23046875|       44.5047212|             0.0|\n",
      "|  5|  Sherwood|   Macieja|  Male|      Mytishchi|            VP Sales|$63863.09|      NULL| 37.6489954|      Mytishchi|    63863.09|  63863.08984375|31.93397331237793|             0.0|\n",
      "|  6|     Maris|      Folk|Female|Kinsealy-Drinan|      Civil Engineer|$30101.16|53.4266145| -6.1644997|Kinsealy-Drinan|    30101.16|  30101.16015625|       53.4266145|  30101.16015625|\n",
      "|  8|   Goddart|     Flear|  Male|      Trélissac|Desktop Support T...|$46116.36|45.1905186|  0.7423124|      Trélissac|    46116.36|    46116.359375|       45.1905186|             0.0|\n",
      "|  9|      Roth|O'Cannavan|  Male|         Heitan|VP Product Manage...|$73697.10| 32.027934| 106.657113|         Heitan|     73697.1|   73697.1015625|        32.027934|             0.0|\n",
      "| 10|      Bran|   Trahear|  Male|       Arbeláez|Mechanical System...|$68098.42|  4.272793| -74.416014|       Arbeláez|    68098.42|    68098.421875|         4.272793|             0.0|\n",
      "| 11|    Kylynn|   Lockart|Female|       El Cardo|Nuclear Power Eng...|$13604.63|     -5.85|-79.8833329|       El Cardo|    13604.63|13604.6298828125|            -5.85|13604.6298828125|\n",
      "| 12|       Rey|    Meharg|Female|    Wangqingtuo|Systems Administr...|$73423.70| 39.172378| 116.931607|    Wangqingtuo|     73423.7|    73423.703125|        39.172378|    73423.703125|\n",
      "| 13|      Kerr|    Braden|  Male|      Sułkowice|Compensation Analyst|$33432.99|49.8151822| 19.3771749|      Sułkowice|    33432.99|  33432.98828125|       49.8151822|             0.0|\n",
      "| 14|    Mickie| Whanstall|  Male|    Springfield|Assistant Media P...|$50838.53|42.1014803|-72.5766759|    Springfield|    50838.53|     50838.53125|       42.1014803|             0.0|\n",
      "| 15|    Kaspar|     Pally|  Male|         Chrást|  Analyst Programmer|$40163.03|49.7923299| 13.4915324|         Chrást|    40163.03|     40163.03125|       49.7923299|             0.0|\n",
      "| 16|    Norbie|    Gwyllt|  Male|         Xijiao|              Editor|$32492.73|43.4945737|  5.8978018|         Xijiao|    32492.73|  32492.73046875|       43.4945737|             0.0|\n",
      "| 17|    Claude|    Briant|Female|      Mieścisko|Research Assistan...|$51862.48|52.7441662| 17.3278637|      Mieścisko|    51862.48|  51862.48046875|       52.7441662|  51862.48046875|\n",
      "| 18|     Thain|    Habbon|  Male| Foros do Trapo|     Design Engineer|$42135.67| 38.696249| -8.7098337| Foros do Trapo|    42135.67|    42135.671875|        38.696249|             0.0|\n",
      "| 19|  Tiffanie|  Pattison|Female|    Jabungsisir|Senior Financial ...|$91925.08|-7.7232567|113.4686802|    Jabungsisir|    91925.08|    91925.078125|       -7.7232567|    91925.078125|\n",
      "| 20|    Ettore|  Gerriets|  Male|          Pedra| Staff Accountant IV|$73921.33|40.7172049| -8.3625148|          Pedra|    73921.33|    73921.328125|       40.7172049|             0.0|\n",
      "| 21|      Alon|  Chasteau|  Male|          Xin’e|     Web Developer I|$62755.85|  49.16291|  127.98658|          Xin’e|    62755.85|   62755.8515625|         49.16291|             0.0|\n",
      "| 22|   Guthrey|    Johnke|  Male|         Xijiao|         Developer I|$13708.03|40.7576842| 23.1342184|         Xijiao|    13708.03|13708.0302734375|       40.7576842|             0.0|\n",
      "+---+----------+----------+------+---------------+--------------------+---------+----------+-----------+---------------+------------+----------------+-----------------+----------------+\n",
      "only showing top 20 rows\n",
      "\n"
     ]
    }
   ],
   "source": [
    "df.show()"
   ]
  },
  {
   "cell_type": "code",
   "execution_count": 46,
   "id": "8542d777-b41b-4856-972e-dac51306c628",
   "metadata": {},
   "outputs": [],
   "source": [
    "df = df.withColumn('male_salary', when(df.gender == 'Male', df.new_salary).otherwise(lit(0)))"
   ]
  },
  {
   "cell_type": "code",
   "execution_count": 47,
   "id": "51c8e43d-3180-407f-a8cb-1424bbd9358c",
   "metadata": {},
   "outputs": [
    {
     "name": "stdout",
     "output_type": "stream",
     "text": [
      "+---+----------+----------+------+---------------+--------------------+---------+----------+-----------+---------------+------------+----------------+-----------------+----------------+----------------+\n",
      "| id|first_name| last_name|gender|           City|            JobTitle|   Salary|  Latitude|  Longitude|     clean_city|clean_salary|      new_salary|              lat|   female_salary|     male_salary|\n",
      "+---+----------+----------+------+---------------+--------------------+---------+----------+-----------+---------------+------------+----------------+-----------------+----------------+----------------+\n",
      "|  1|   Melinde| Shilburne|Female|      Nowa Ruda| Assistant Professor|$57438.18|50.5774075| 16.4967184|      Nowa Ruda|    57438.18|   57438.1796875|       50.5774075|   57438.1796875|             0.0|\n",
      "|  2|  Kimberly|Von Welden|Female|         Bulgan|       Programmer II|$62846.60|48.8231572|103.5218199|         Bulgan|     62846.6|   62846.6015625|       48.8231572|   62846.6015625|             0.0|\n",
      "|  4|   Shannon| O'Griffin|  Male|  Divnomorskoye|Budget/Accounting...|$61489.23|44.5047212| 38.1300171|  Divnomorskoye|    61489.23|  61489.23046875|       44.5047212|             0.0|  61489.23046875|\n",
      "|  5|  Sherwood|   Macieja|  Male|      Mytishchi|            VP Sales|$63863.09|      NULL| 37.6489954|      Mytishchi|    63863.09|  63863.08984375|31.93397331237793|             0.0|  63863.08984375|\n",
      "|  6|     Maris|      Folk|Female|Kinsealy-Drinan|      Civil Engineer|$30101.16|53.4266145| -6.1644997|Kinsealy-Drinan|    30101.16|  30101.16015625|       53.4266145|  30101.16015625|             0.0|\n",
      "|  8|   Goddart|     Flear|  Male|      Trélissac|Desktop Support T...|$46116.36|45.1905186|  0.7423124|      Trélissac|    46116.36|    46116.359375|       45.1905186|             0.0|    46116.359375|\n",
      "|  9|      Roth|O'Cannavan|  Male|         Heitan|VP Product Manage...|$73697.10| 32.027934| 106.657113|         Heitan|     73697.1|   73697.1015625|        32.027934|             0.0|   73697.1015625|\n",
      "| 10|      Bran|   Trahear|  Male|       Arbeláez|Mechanical System...|$68098.42|  4.272793| -74.416014|       Arbeláez|    68098.42|    68098.421875|         4.272793|             0.0|    68098.421875|\n",
      "| 11|    Kylynn|   Lockart|Female|       El Cardo|Nuclear Power Eng...|$13604.63|     -5.85|-79.8833329|       El Cardo|    13604.63|13604.6298828125|            -5.85|13604.6298828125|             0.0|\n",
      "| 12|       Rey|    Meharg|Female|    Wangqingtuo|Systems Administr...|$73423.70| 39.172378| 116.931607|    Wangqingtuo|     73423.7|    73423.703125|        39.172378|    73423.703125|             0.0|\n",
      "| 13|      Kerr|    Braden|  Male|      Sułkowice|Compensation Analyst|$33432.99|49.8151822| 19.3771749|      Sułkowice|    33432.99|  33432.98828125|       49.8151822|             0.0|  33432.98828125|\n",
      "| 14|    Mickie| Whanstall|  Male|    Springfield|Assistant Media P...|$50838.53|42.1014803|-72.5766759|    Springfield|    50838.53|     50838.53125|       42.1014803|             0.0|     50838.53125|\n",
      "| 15|    Kaspar|     Pally|  Male|         Chrást|  Analyst Programmer|$40163.03|49.7923299| 13.4915324|         Chrást|    40163.03|     40163.03125|       49.7923299|             0.0|     40163.03125|\n",
      "| 16|    Norbie|    Gwyllt|  Male|         Xijiao|              Editor|$32492.73|43.4945737|  5.8978018|         Xijiao|    32492.73|  32492.73046875|       43.4945737|             0.0|  32492.73046875|\n",
      "| 17|    Claude|    Briant|Female|      Mieścisko|Research Assistan...|$51862.48|52.7441662| 17.3278637|      Mieścisko|    51862.48|  51862.48046875|       52.7441662|  51862.48046875|             0.0|\n",
      "| 18|     Thain|    Habbon|  Male| Foros do Trapo|     Design Engineer|$42135.67| 38.696249| -8.7098337| Foros do Trapo|    42135.67|    42135.671875|        38.696249|             0.0|    42135.671875|\n",
      "| 19|  Tiffanie|  Pattison|Female|    Jabungsisir|Senior Financial ...|$91925.08|-7.7232567|113.4686802|    Jabungsisir|    91925.08|    91925.078125|       -7.7232567|    91925.078125|             0.0|\n",
      "| 20|    Ettore|  Gerriets|  Male|          Pedra| Staff Accountant IV|$73921.33|40.7172049| -8.3625148|          Pedra|    73921.33|    73921.328125|       40.7172049|             0.0|    73921.328125|\n",
      "| 21|      Alon|  Chasteau|  Male|          Xin’e|     Web Developer I|$62755.85|  49.16291|  127.98658|          Xin’e|    62755.85|   62755.8515625|         49.16291|             0.0|   62755.8515625|\n",
      "| 22|   Guthrey|    Johnke|  Male|         Xijiao|         Developer I|$13708.03|40.7576842| 23.1342184|         Xijiao|    13708.03|13708.0302734375|       40.7576842|             0.0|13708.0302734375|\n",
      "+---+----------+----------+------+---------------+--------------------+---------+----------+-----------+---------------+------------+----------------+-----------------+----------------+----------------+\n",
      "only showing top 20 rows\n",
      "\n"
     ]
    }
   ],
   "source": [
    "df.show()"
   ]
  },
  {
   "cell_type": "code",
   "execution_count": 48,
   "id": "fda9c6a5-5e8e-4dd5-a5fa-0fc62f77d5ee",
   "metadata": {},
   "outputs": [],
   "source": [
    "df = df.groupBy('JobTitle').agg(sqlfunc.avg('female_salary').alias('final_female_salary'), sqlfunc.avg('male_salary').alias('final_male_salary'))"
   ]
  },
  {
   "cell_type": "code",
   "execution_count": 49,
   "id": "ce8b3d9d-bf91-4ae4-b797-59ba8e81d7bb",
   "metadata": {},
   "outputs": [
    {
     "name": "stdout",
     "output_type": "stream",
     "text": [
      "+--------------------+-------------------+------------------+\n",
      "|            JobTitle|final_female_salary| final_male_salary|\n",
      "+--------------------+-------------------+------------------+\n",
      "|Systems Administr...|    50590.474609375|  15540.9501953125|\n",
      "|   Media Manager III| 29586.436197916668|17381.920572916668|\n",
      "|  Recruiting Manager| 34848.452473958336|  26383.4951171875|\n",
      "|       Geologist III|       31749.046875|    12830.75390625|\n",
      "|        Geologist II|                0.0|   43293.865234375|\n",
      "|Database Administ...|                0.0|     52018.4609375|\n",
      "|   Financial Analyst|    23353.776953125|       39606.05625|\n",
      "|  Analyst Programmer|   16406.1287109375|  21042.9634765625|\n",
      "|Software Engineer II|                0.0|      74782.640625|\n",
      "|       Accountant IV|    82732.248046875|               0.0|\n",
      "|    Product Engineer|     41825.48359375|       20464.94375|\n",
      "|Software Test Eng...|   32218.6083984375|   27122.462890625|\n",
      "|Safety Technician...|                0.0|   29421.529296875|\n",
      "|    Junior Executive| 15752.220052083334|49510.330729166664|\n",
      "|Systems Administr...|        77059.21875|               0.0|\n",
      "|Human Resources A...|    24022.662109375| 16609.27783203125|\n",
      "|        VP Marketing|  7981.178385416667|52844.534830729164|\n",
      "|  Environmental Tech| 13706.980143229166|      45660.890625|\n",
      "|Mechanical System...| 31370.781901041668|44321.593098958336|\n",
      "| Assistant Professor|    22175.953515625|   26912.770703125|\n",
      "+--------------------+-------------------+------------------+\n",
      "only showing top 20 rows\n",
      "\n"
     ]
    }
   ],
   "source": [
    "df.show()"
   ]
  },
  {
   "cell_type": "code",
   "execution_count": 50,
   "id": "4624b77a-63ef-4646-892e-2d849fb2a8c8",
   "metadata": {},
   "outputs": [],
   "source": [
    "df = df.withColumn('delta', df.final_female_salary - df.final_male_salary)"
   ]
  },
  {
   "cell_type": "code",
   "execution_count": 51,
   "id": "bc63d49c-8497-4c20-89b8-2062e2348f25",
   "metadata": {},
   "outputs": [
    {
     "name": "stdout",
     "output_type": "stream",
     "text": [
      "+--------------------+-------------------+------------------+-------------------+\n",
      "|            JobTitle|final_female_salary| final_male_salary|              delta|\n",
      "+--------------------+-------------------+------------------+-------------------+\n",
      "|Systems Administr...|    50590.474609375|  15540.9501953125|   35049.5244140625|\n",
      "|   Media Manager III| 29586.436197916668|17381.920572916668|       12204.515625|\n",
      "|  Recruiting Manager| 34848.452473958336|  26383.4951171875|  8464.957356770836|\n",
      "|       Geologist III|       31749.046875|    12830.75390625|     18918.29296875|\n",
      "|        Geologist II|                0.0|   43293.865234375|   -43293.865234375|\n",
      "|Database Administ...|                0.0|     52018.4609375|     -52018.4609375|\n",
      "|   Financial Analyst|    23353.776953125|       39606.05625|   -16252.279296875|\n",
      "|  Analyst Programmer|   16406.1287109375|  21042.9634765625| -4636.834765625001|\n",
      "|Software Engineer II|                0.0|      74782.640625|      -74782.640625|\n",
      "|       Accountant IV|    82732.248046875|               0.0|    82732.248046875|\n",
      "|    Product Engineer|     41825.48359375|       20464.94375| 21360.539843750004|\n",
      "|Software Test Eng...|   32218.6083984375|   27122.462890625|    5096.1455078125|\n",
      "|Safety Technician...|                0.0|   29421.529296875|   -29421.529296875|\n",
      "|    Junior Executive| 15752.220052083334|49510.330729166664| -33758.11067708333|\n",
      "|Systems Administr...|        77059.21875|               0.0|        77059.21875|\n",
      "|Human Resources A...|    24022.662109375| 16609.27783203125|   7413.38427734375|\n",
      "|        VP Marketing|  7981.178385416667|52844.534830729164|  -44863.3564453125|\n",
      "|  Environmental Tech| 13706.980143229166|      45660.890625|-31953.910481770836|\n",
      "|Mechanical System...| 31370.781901041668|44321.593098958336|-12950.811197916668|\n",
      "| Assistant Professor|    22175.953515625|   26912.770703125| -4736.817187500001|\n",
      "+--------------------+-------------------+------------------+-------------------+\n",
      "only showing top 20 rows\n",
      "\n"
     ]
    }
   ],
   "source": [
    "df.show()"
   ]
  },
  {
   "cell_type": "markdown",
   "id": "1c657f12-b61a-46b1-a93c-f29a8ec70d2a",
   "metadata": {},
   "source": [
    "#### Which city has highest average salary"
   ]
  },
  {
   "cell_type": "code",
   "execution_count": 52,
   "id": "93310d97-3def-475c-8869-0de5c7258772",
   "metadata": {},
   "outputs": [],
   "source": [
    "cityavg = mydata2.groupBy('City').agg(sqlfunc.avg('new_salary').alias('avgsalary'))"
   ]
  },
  {
   "cell_type": "code",
   "execution_count": 53,
   "id": "2be28cd7-0dec-4ad3-bfac-404e25e9a6ad",
   "metadata": {},
   "outputs": [
    {
     "name": "stdout",
     "output_type": "stream",
     "text": [
      "+-----------------+----------------+\n",
      "|             City|       avgsalary|\n",
      "+-----------------+----------------+\n",
      "|        Sułkowice|  33432.98828125|\n",
      "|          Klippan|     77039.46875|\n",
      "|      Trollhättan|53311.6845703125|\n",
      "|        Shinaihai|    39544.640625|\n",
      "|         Hongzhou|  35707.30859375|\n",
      "|         Cipinang| 11617.509765625|\n",
      "| Viejo Daan Banua|         43927.5|\n",
      "|         Tsiatsan| 18795.439453125|\n",
      "|       San Andres|  52426.80078125|\n",
      "|           Krasna|   72022.7890625|\n",
      "|      Springfield|40697.3251953125|\n",
      "|            Město|  27797.98046875|\n",
      "|Chaloem Phra Kiat|  54840.19921875|\n",
      "|          Tadotsu|  55595.30078125|\n",
      "|   Hénin-Beaumont|        55082.75|\n",
      "|          Kajaani|  20224.83984375|\n",
      "|           Duozhu|    71416.859375|\n",
      "|           Abéché|   93375.1796875|\n",
      "|     Habingkloang|     56892.96875|\n",
      "|         Malishka|   76783.4765625|\n",
      "+-----------------+----------------+\n",
      "only showing top 20 rows\n",
      "\n"
     ]
    }
   ],
   "source": [
    "cityavg.show()"
   ]
  },
  {
   "cell_type": "code",
   "execution_count": 54,
   "id": "1d2719f9-bd08-4e4d-8727-b8d83b29a83a",
   "metadata": {},
   "outputs": [],
   "source": [
    "cityavg = cityavg.sort(col('avgsalary').desc())"
   ]
  },
  {
   "cell_type": "code",
   "execution_count": 55,
   "id": "874e7822-7f1d-4e07-9863-8022ae21e941",
   "metadata": {},
   "outputs": [
    {
     "data": {
      "text/plain": [
       "DataFrame[City: string, avgsalary: double]"
      ]
     },
     "execution_count": 55,
     "metadata": {},
     "output_type": "execute_result"
    }
   ],
   "source": [
    "cityavg"
   ]
  },
  {
   "cell_type": "code",
   "execution_count": 56,
   "id": "29850289-d714-4fa8-b7e1-bd5ea7398654",
   "metadata": {},
   "outputs": [
    {
     "name": "stdout",
     "output_type": "stream",
     "text": [
      "DataFrame[City: string, avgsalary: double]\n"
     ]
    }
   ],
   "source": [
    "print(cityavg)"
   ]
  },
  {
   "cell_type": "code",
   "execution_count": 57,
   "id": "12a07647-7ba4-4776-80a0-da7dc97bf933",
   "metadata": {},
   "outputs": [
    {
     "name": "stdout",
     "output_type": "stream",
     "text": [
      "+-----------------+-------------+\n",
      "|             City|    avgsalary|\n",
      "+-----------------+-------------+\n",
      "|        Mesopotam|  99948.28125|\n",
      "|       Zhongcheng| 99942.921875|\n",
      "|           Caxias|99786.3984375|\n",
      "|      Karangtawar|99638.9921875|\n",
      "|        Itabaiana|  99502.15625|\n",
      "|           Pasian|  99421.34375|\n",
      "|           Webuye| 99368.546875|\n",
      "|      Yuktae-dong| 99250.828125|\n",
      "|           Zinder|  99222.84375|\n",
      "|   Timiryazevskiy|   99142.9375|\n",
      "|        Sawahbaru|99013.7109375|\n",
      "|          Madimba|98737.8671875|\n",
      "|         Huangshi|  98690.34375|\n",
      "|          Gharyan|   98679.3125|\n",
      "|         Yŏnan-ŭp| 98628.609375|\n",
      "|     Wringinputih|98603.8203125|\n",
      "|Monte da Boavista|  98586.71875|\n",
      "|          Klukeng|98439.4921875|\n",
      "|         Murmashi|  98226.15625|\n",
      "|        Fox Creek|      98138.0|\n",
      "+-----------------+-------------+\n",
      "only showing top 20 rows\n",
      "\n"
     ]
    }
   ],
   "source": [
    "cityavg.show()"
   ]
  },
  {
   "cell_type": "code",
   "execution_count": null,
   "id": "1b3b351e-0984-4604-bcc0-b85e2e69aecc",
   "metadata": {},
   "outputs": [],
   "source": []
  },
  {
   "cell_type": "code",
   "execution_count": null,
   "id": "7b7767f6-5bb6-4131-ba25-9cd14566ab88",
   "metadata": {},
   "outputs": [],
   "source": []
  },
  {
   "cell_type": "code",
   "execution_count": null,
   "id": "50b7b190-8414-4633-b498-507603c303b4",
   "metadata": {},
   "outputs": [],
   "source": []
  },
  {
   "cell_type": "code",
   "execution_count": null,
   "id": "29143f55-4749-4f12-a6a0-f6177bf8bf0e",
   "metadata": {},
   "outputs": [],
   "source": []
  },
  {
   "cell_type": "code",
   "execution_count": null,
   "id": "0bb9654b-cac3-4905-b7bf-4b0d17eafe13",
   "metadata": {},
   "outputs": [],
   "source": []
  }
 ],
 "metadata": {
  "kernelspec": {
   "display_name": "Python 3 (ipykernel)",
   "language": "python",
   "name": "python3"
  },
  "language_info": {
   "codemirror_mode": {
    "name": "ipython",
    "version": 3
   },
   "file_extension": ".py",
   "mimetype": "text/x-python",
   "name": "python",
   "nbconvert_exporter": "python",
   "pygments_lexer": "ipython3",
   "version": "3.11.7"
  }
 },
 "nbformat": 4,
 "nbformat_minor": 5
}
