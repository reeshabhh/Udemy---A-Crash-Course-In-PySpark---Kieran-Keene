from IPython.core.display import HTML
display(HTML("<style>pre { white-space: pre !important; }</style>"))

import findspark
findspark.init()

import pyspark
from pyspark.sql import SparkSession
spark = SparkSession.builder.master("local[*]").getOrCreate()
spark


df = spark.read.format('csv').option('header', 'true').load('original.csv')
df.show()


df2 = spark.read.csv('original.csv', header=True)
df2.show()

# other file formats are simple for e.g. spark.read.text(...)


df2.dtypes


df2


from pyspark.sql.types import *

schema = StructType([
    StructField('id', IntegerType()),
    StructField('first_name', StringType()),
    StructField('last_name', StringType()),
    StructField('gender', StringType()),
    StructField('city', StringType()),
    StructField('job_title', StringType()),
    StructField('Salary', StringType()),
    StructField('latitude', StringType()),
    StructField('longitude', FloatType()),
])

df3 = spark.read.csv('original.csv', header=True, schema=schema)
df3.show()


df3.dtypes



