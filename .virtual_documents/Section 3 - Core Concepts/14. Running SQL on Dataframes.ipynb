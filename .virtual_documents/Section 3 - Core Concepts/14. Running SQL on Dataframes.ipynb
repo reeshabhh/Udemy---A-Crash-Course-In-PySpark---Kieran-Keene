from IPython.core.display import HTML
display(HTML("<style>pre { white-space: pre !important; }</style>"))

import findspark
findspark.init()

import pyspark
from pyspark.sql import SparkSession
spark = SparkSession.builder.master("local[*]").getOrCreate()
spark


from pyspark.sql.types import *

myschema = StructType([
    StructField('id', IntegerType()),
    StructField('first_name', StringType()),
    StructField('last_name', StringType()),
    StructField('gender', StringType()),
    StructField('city', StringType()),
    StructField('job_title', StringType()),
    StructField('Salary', StringType()),
    StructField('latitude', FloatType()),
    StructField('longitude', FloatType()),
])

df = spark.read.csv('original.csv', header=True, schema=myschema)
df.show()


df.createOrReplaceTempView('original')


df.registerTempTable('original')


query1 = spark.sql('select * from original')
query1.show()


query2 = spark.sql('select concat(first_name, " ", last_name) as full_name from original where gender="Female"')
query2.show()









