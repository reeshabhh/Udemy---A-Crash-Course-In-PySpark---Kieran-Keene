from IPython.core.display import HTML
display(HTML("<style>pre { white-space: pre !important; }</style>"))

import findspark
findspark.init()

import pyspark
from pyspark.sql import SparkSession
spark = SparkSession.builder.master("local[*]").getOrCreate()
spark


from pyspark.sql.types import *

myschema = StructType([
    StructField('id', IntegerType()),
    StructField('first_name', StringType()),
    StructField('last_name', StringType()),
    StructField('gender', StringType()),
    StructField('city', StringType()),
    StructField('job_title', StringType()),
    StructField('Salary', StringType()),
    StructField('latitude', FloatType()),
    StructField('longitude', FloatType()),
])

df = spark.read.csv('original.csv', header=True, schema=myschema)
df.show()


from pyspark.sql.functions import *
df = df.withColumn('clean_salary', df.Salary.substr(2, 100).cast('float'))
df.show()


df = df.withColumn('monthly_salary', df.clean_salary/12)
df.show()


df = df.withColumn('are_they_female', when(df.gender == 'Female', 'Yes').otherwise('No'))
df.show()






