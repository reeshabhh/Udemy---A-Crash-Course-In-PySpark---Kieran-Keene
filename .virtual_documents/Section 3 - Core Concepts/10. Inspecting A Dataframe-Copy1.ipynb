from IPython.core.display import HTML
display(HTML("<style>pre { white-space: pre !important; }</style>"))

import findspark
findspark.init()

import pyspark
from pyspark.sql import SparkSession
spark = SparkSession.builder.master("local[*]").getOrCreate()
spark


from pyspark.sql.types import *

myschema = StructType([
    StructField('id', IntegerType()),
    StructField('first_name', StringType()),
    StructField('last_name', StringType()),
    StructField('gender', StringType()),
    StructField('city', StringType()),
    StructField('job_title', StringType()),
    StructField('Salary', StringType()),
    StructField('latitude', FloatType()),
    StructField('longitude', FloatType()),
])

df = spark.read.csv('original.csv', header=True, schema=myschema)
df.show()


df_dropped = df.na.drop()
df_dropped.show()


df_null_jobs = df.filter(df.job_title.isNotNull())
df_null_jobs.show()


from pyspark.sql.functions import * # we can't run when statement without importing from functions
from pyspark.sql.functions import when
df_handled = df.withColumn('Clean City', when(df.city.isNull(), 'Unknown') . otherwise(df.city))
df_handled.show()


df_no_duplicates = df.dropDuplicates()
df_no_duplicates.show()


df.count()


df_no_duplicates.count()


df_no_duplicates.sort(col('id').asc()).show()


when??



