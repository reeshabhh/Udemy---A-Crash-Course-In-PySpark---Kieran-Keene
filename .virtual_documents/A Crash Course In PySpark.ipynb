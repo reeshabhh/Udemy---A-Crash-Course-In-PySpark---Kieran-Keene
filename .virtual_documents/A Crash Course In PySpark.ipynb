


from IPython.core.display import HTML
display(HTML("<style>pre { white-space: pre !important; }</style>"))


import findspark
findspark.init()


from pyspark.sql import SparkSession


print(findspark.init())


spark = SparkSession.builder.master("local[*]").getOrCreate()


spark


mydata = spark.read.format('csv').option('header', 'true').load('original.csv')


mydata.show()


from pyspark.sql.functions import *


mydata2 = mydata.withColumn('clean_city', when(mydata.City.isNull(), 'Unknown').otherwise(mydata.City))


mydata2.show()


mydata2 = mydata2.filter(mydata2.JobTitle.isNotNull())


mydata2.show()


mydata2 = mydata2.withColumn('clean_salary', mydata2.Salary.substr(2, 100).cast('float'))


mydata2.show()


mean = mydata2.groupBy().avg('clean_salary')


mean


mean.take(1)


mean.take(1)[0]


mean.take(1)[0][0]


mean = mean.take(1)[0][0]


print(mean)


from pyspark.sql.functions import lit # literal value
# lit let's you set a static value as the value of a column
mydata2 = mydata2.withColumn('new_salary', when(mydata2.clean_salary.isNull(), lit(mean)).otherwise(mydata2.clean_salary))


mydata2.show()


mydata2.clean_salary.isNull()


from pyspark.sql.functions import col
column_name = 'clean_salary'
null_values_df = mydata2.filter(col(column_name).isNull())
null_values_df.show()


import numpy as np
latitudes = mydata2.select('Latitude')


latitudes.show()


latitudes = latitudes.filter(latitudes.Latitude.isNotNull())


latitudes


latitudes.show()


latitudes = latitudes.withColumn('latitude2', latitudes.Latitude.cast('float')).select('latitude2')


latitudes


latitudes.show()


median = np.median(latitudes.collect())


median


mydata2 = mydata2.withColumn('lat', when(mydata2.Latitude.isNull(), lit(median)).otherwise(mydata2.Latitude))


mydata2.show()





import pyspark.sql.functions as sqlfunc


genders = mydata2.groupBy('gender').agg(sqlfunc.avg('new_salary'))


genders.show()


genders = mydata2.groupBy('gender').agg(sqlfunc.avg('new_salary').alias('AvgSalary'))


# which gender is paid more
genders.show()





df = mydata2.withColumn('female_salary', when(mydata2.gender == 'Female', mydata2.new_salary).otherwise(lit(0)))


df.show()


df = df.withColumn('male_salary', when(df.gender == 'Male', df.new_salary).otherwise(lit(0)))


df.show()


df = df.groupBy('JobTitle').agg(sqlfunc.avg('female_salary').alias('final_female_salary'), sqlfunc.avg('male_salary').alias('final_male_salary'))


df.show()


df = df.withColumn('delta', df.final_female_salary - df.final_male_salary)


df.show()





cityavg = mydata2.groupBy('City').agg(sqlfunc.avg('new_salary').alias('avgsalary'))


cityavg.show()


cityavg = cityavg.sort(col('avgsalary').desc())


cityavg


print(cityavg)


cityavg.show()















