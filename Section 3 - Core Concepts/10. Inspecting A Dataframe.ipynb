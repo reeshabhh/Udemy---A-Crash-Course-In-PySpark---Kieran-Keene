{
 "cells": [
  {
   "cell_type": "code",
   "execution_count": 1,
   "id": "e4c1c9c3-f1de-4b9f-9542-ced861e4319d",
   "metadata": {},
   "outputs": [
    {
     "data": {
      "text/html": [
       "<style>pre { white-space: pre !important; }</style>"
      ],
      "text/plain": [
       "<IPython.core.display.HTML object>"
      ]
     },
     "metadata": {},
     "output_type": "display_data"
    },
    {
     "data": {
      "text/html": [
       "\n",
       "            <div>\n",
       "                <p><b>SparkSession - in-memory</b></p>\n",
       "                \n",
       "        <div>\n",
       "            <p><b>SparkContext</b></p>\n",
       "\n",
       "            <p><a href=\"http://Legion:4041\">Spark UI</a></p>\n",
       "\n",
       "            <dl>\n",
       "              <dt>Version</dt>\n",
       "                <dd><code>v3.5.0</code></dd>\n",
       "              <dt>Master</dt>\n",
       "                <dd><code>local[*]</code></dd>\n",
       "              <dt>AppName</dt>\n",
       "                <dd><code>pyspark-shell</code></dd>\n",
       "            </dl>\n",
       "        </div>\n",
       "        \n",
       "            </div>\n",
       "        "
      ],
      "text/plain": [
       "<pyspark.sql.session.SparkSession at 0x28cb6e81cd0>"
      ]
     },
     "execution_count": 1,
     "metadata": {},
     "output_type": "execute_result"
    }
   ],
   "source": [
    "from IPython.core.display import HTML\n",
    "display(HTML(\"<style>pre { white-space: pre !important; }</style>\"))\n",
    "\n",
    "import findspark\n",
    "findspark.init()\n",
    "\n",
    "import pyspark\n",
    "from pyspark.sql import SparkSession\n",
    "spark = SparkSession.builder.master(\"local[*]\").getOrCreate()\n",
    "spark"
   ]
  },
  {
   "cell_type": "code",
   "execution_count": 3,
   "id": "4efda086-8c41-4843-8a4e-e654cb6f3395",
   "metadata": {},
   "outputs": [
    {
     "name": "stdout",
     "output_type": "stream",
     "text": [
      "+---+----------+----------+------+---------------+--------------------+---------+----------+----------+\n",
      "| id|first_name| last_name|gender|           city|           job_title|   Salary|  latitude| longitude|\n",
      "+---+----------+----------+------+---------------+--------------------+---------+----------+----------+\n",
      "|  1|   Melinde| Shilburne|Female|      Nowa Ruda| Assistant Professor|$57438.18| 50.577408| 16.496717|\n",
      "|  2|  Kimberly|Von Welden|Female|         Bulgan|       Programmer II|$62846.60|  48.82316| 103.52182|\n",
      "|  3|    Alvera|  Di Boldi|Female|           NULL|                NULL|$57576.52| 39.994747|116.339775|\n",
      "|  4|   Shannon| O'Griffin|  Male|  Divnomorskoye|Budget/Accounting...|$61489.23| 44.504723| 38.130016|\n",
      "|  5|  Sherwood|   Macieja|  Male|      Mytishchi|            VP Sales|$63863.09|      NULL| 37.648994|\n",
      "|  6|     Maris|      Folk|Female|Kinsealy-Drinan|      Civil Engineer|$30101.16| 53.426613|-6.1644998|\n",
      "|  7|     Masha|    Divers|Female|         Dachun|                NULL|$25090.87| 24.879416|118.930115|\n",
      "|  8|   Goddart|     Flear|  Male|      Trélissac|Desktop Support T...|$46116.36| 45.190517| 0.7423124|\n",
      "|  9|      Roth|O'Cannavan|  Male|         Heitan|VP Product Manage...|$73697.10| 32.027935| 106.65711|\n",
      "| 10|      Bran|   Trahear|  Male|       Arbeláez|Mechanical System...|$68098.42|  4.272793|-74.416016|\n",
      "| 11|    Kylynn|   Lockart|Female|       El Cardo|Nuclear Power Eng...|$13604.63|     -5.85| -79.88333|\n",
      "| 12|       Rey|    Meharg|Female|    Wangqingtuo|Systems Administr...|$73423.70|  39.17238| 116.93161|\n",
      "| 13|      Kerr|    Braden|  Male|      Sułkowice|Compensation Analyst|$33432.99|  49.81518| 19.377174|\n",
      "| 14|    Mickie| Whanstall|  Male|    Springfield|Assistant Media P...|$50838.53|  42.10148|-72.576675|\n",
      "| 15|    Kaspar|     Pally|  Male|         Chrást|  Analyst Programmer|$40163.03|  49.79233| 13.491532|\n",
      "| 16|    Norbie|    Gwyllt|  Male|         Xijiao|              Editor|$32492.73| 43.494576|  5.897802|\n",
      "| 17|    Claude|    Briant|Female|      Mieścisko|Research Assistan...|$51862.48| 52.744167| 17.327864|\n",
      "| 18|     Thain|    Habbon|  Male| Foros do Trapo|     Design Engineer|$42135.67| 38.696247| -8.709834|\n",
      "| 19|  Tiffanie|  Pattison|Female|    Jabungsisir|Senior Financial ...|$91925.08|-7.7232566| 113.46868|\n",
      "| 20|    Ettore|  Gerriets|  Male|          Pedra| Staff Accountant IV|$73921.33| 40.717205|-8.3625145|\n",
      "+---+----------+----------+------+---------------+--------------------+---------+----------+----------+\n",
      "only showing top 20 rows\n",
      "\n"
     ]
    }
   ],
   "source": [
    "from pyspark.sql.types import *\n",
    "\n",
    "myschema = StructType([\n",
    "    StructField('id', IntegerType()),\n",
    "    StructField('first_name', StringType()),\n",
    "    StructField('last_name', StringType()),\n",
    "    StructField('gender', StringType()),\n",
    "    StructField('city', StringType()),\n",
    "    StructField('job_title', StringType()),\n",
    "    StructField('Salary', StringType()),\n",
    "    StructField('latitude', FloatType()),\n",
    "    StructField('longitude', FloatType()),\n",
    "])\n",
    "\n",
    "df = spark.read.csv('original.csv', header=True, schema=myschema)\n",
    "df.show()"
   ]
  },
  {
   "cell_type": "code",
   "execution_count": 6,
   "id": "e8a147a7-bba7-4843-bab3-9e690812ed27",
   "metadata": {},
   "outputs": [
    {
     "data": {
      "text/plain": [
       "[('id', 'int'),\n",
       " ('first_name', 'string'),\n",
       " ('last_name', 'string'),\n",
       " ('gender', 'string'),\n",
       " ('city', 'string'),\n",
       " ('job_title', 'string'),\n",
       " ('Salary', 'string'),\n",
       " ('latitude', 'float'),\n",
       " ('longitude', 'float')]"
      ]
     },
     "execution_count": 6,
     "metadata": {},
     "output_type": "execute_result"
    }
   ],
   "source": [
    "df.dtypes"
   ]
  },
  {
   "cell_type": "code",
   "execution_count": 7,
   "id": "46c11b27-2956-4977-9b2f-e626f205f1fc",
   "metadata": {},
   "outputs": [
    {
     "data": {
      "text/plain": [
       "[Row(id=1, first_name='Melinde', last_name='Shilburne', gender='Female', city='Nowa Ruda', job_title='Assistant Professor', Salary='$57438.18', latitude=50.57740783691406, longitude=16.49671745300293),\n",
       " Row(id=2, first_name='Kimberly', last_name='Von Welden', gender='Female', city='Bulgan', job_title='Programmer II', Salary='$62846.60', latitude=48.823158264160156, longitude=103.52182006835938),\n",
       " Row(id=3, first_name='Alvera', last_name='Di Boldi', gender='Female', city=None, job_title=None, Salary='$57576.52', latitude=39.994747161865234, longitude=116.33977508544922),\n",
       " Row(id=4, first_name='Shannon', last_name=\"O'Griffin\", gender='Male', city='Divnomorskoye', job_title='Budget/Accounting Analyst II', Salary='$61489.23', latitude=44.504722595214844, longitude=38.1300163269043),\n",
       " Row(id=5, first_name='Sherwood', last_name='Macieja', gender='Male', city='Mytishchi', job_title='VP Sales', Salary='$63863.09', latitude=None, longitude=37.64899444580078),\n",
       " Row(id=6, first_name='Maris', last_name='Folk', gender='Female', city='Kinsealy-Drinan', job_title='Civil Engineer', Salary='$30101.16', latitude=53.426612854003906, longitude=-6.164499759674072)]"
      ]
     },
     "execution_count": 7,
     "metadata": {},
     "output_type": "execute_result"
    }
   ],
   "source": [
    "df.head(6)"
   ]
  },
  {
   "cell_type": "code",
   "execution_count": 11,
   "id": "a46466cc-f2b3-4a79-bfef-512846c98707",
   "metadata": {},
   "outputs": [
    {
     "data": {
      "text/plain": [
       "[Row(id=1, first_name='Melinde', last_name='Shilburne', gender='Female', city='Nowa Ruda', job_title='Assistant Professor', Salary='$57438.18', latitude=50.57740783691406, longitude=16.49671745300293),\n",
       " Row(id=2, first_name='Kimberly', last_name='Von Welden', gender='Female', city='Bulgan', job_title='Programmer II', Salary='$62846.60', latitude=48.823158264160156, longitude=103.52182006835938),\n",
       " Row(id=3, first_name='Alvera', last_name='Di Boldi', gender='Female', city=None, job_title=None, Salary='$57576.52', latitude=39.994747161865234, longitude=116.33977508544922),\n",
       " Row(id=4, first_name='Shannon', last_name=\"O'Griffin\", gender='Male', city='Divnomorskoye', job_title='Budget/Accounting Analyst II', Salary='$61489.23', latitude=44.504722595214844, longitude=38.1300163269043),\n",
       " Row(id=5, first_name='Sherwood', last_name='Macieja', gender='Male', city='Mytishchi', job_title='VP Sales', Salary='$63863.09', latitude=None, longitude=37.64899444580078),\n",
       " Row(id=6, first_name='Maris', last_name='Folk', gender='Female', city='Kinsealy-Drinan', job_title='Civil Engineer', Salary='$30101.16', latitude=53.426612854003906, longitude=-6.164499759674072)]"
      ]
     },
     "execution_count": 11,
     "metadata": {},
     "output_type": "execute_result"
    }
   ],
   "source": [
    "df.take(6)"
   ]
  },
  {
   "cell_type": "code",
   "execution_count": 12,
   "id": "c07cf566-f183-45ed-97b9-1f8cf3300e78",
   "metadata": {},
   "outputs": [
    {
     "data": {
      "text/plain": [
       "True"
      ]
     },
     "execution_count": 12,
     "metadata": {},
     "output_type": "execute_result"
    }
   ],
   "source": [
    "df.head(6) == df.take(6)"
   ]
  },
  {
   "cell_type": "code",
   "execution_count": 14,
   "id": "90d1f9f9-bc8c-4046-82d3-fbcbfb6b8748",
   "metadata": {},
   "outputs": [
    {
     "data": {
      "text/plain": [
       "Row(id=1, first_name='Melinde', last_name='Shilburne', gender='Female', city='Nowa Ruda', job_title='Assistant Professor', Salary='$57438.18', latitude=50.57740783691406, longitude=16.49671745300293)"
      ]
     },
     "execution_count": 14,
     "metadata": {},
     "output_type": "execute_result"
    }
   ],
   "source": [
    "df.first()"
   ]
  },
  {
   "cell_type": "code",
   "execution_count": 16,
   "id": "10727595-0c75-45a4-aa41-4cca0cc6ccde",
   "metadata": {},
   "outputs": [
    {
     "data": {
      "text/plain": [
       "False"
      ]
     },
     "execution_count": 16,
     "metadata": {},
     "output_type": "execute_result"
    }
   ],
   "source": [
    "df.first == df.head(1) == df.take(1)"
   ]
  },
  {
   "cell_type": "code",
   "execution_count": 20,
   "id": "09491f80-0db0-4b5b-bce6-182e7da91d20",
   "metadata": {},
   "outputs": [
    {
     "data": {
      "text/plain": [
       "True"
      ]
     },
     "execution_count": 20,
     "metadata": {},
     "output_type": "execute_result"
    }
   ],
   "source": [
    "df.head(1) == df.take(1) == df.head(1) == df.take(1)"
   ]
  },
  {
   "cell_type": "code",
   "execution_count": 21,
   "id": "2bc6bfbc-1e42-4836-94cc-79fe8b9a10ca",
   "metadata": {},
   "outputs": [
    {
     "name": "stdout",
     "output_type": "stream",
     "text": [
      "+-------+-----------------+----------+---------+------+-------------------+-------------------+---------+------------------+-----------------+\n",
      "|summary|               id|first_name|last_name|gender|               city|          job_title|   Salary|          latitude|        longitude|\n",
      "+-------+-----------------+----------+---------+------+-------------------+-------------------+---------+------------------+-----------------+\n",
      "|  count|             1000|      1000|     1000|  1000|                999|                998|     1000|               999|             1000|\n",
      "|   mean|            500.5|      NULL|     NULL|  NULL|               NULL|               NULL|     NULL| 25.43151724702484|43.33756460386515|\n",
      "| stddev|288.8194360957494|      NULL|     NULL|  NULL|               NULL|               NULL|     NULL|24.579082550156635| 69.4206453674681|\n",
      "|    min|                1|   Abagail|    Abbay|Female|             Abéché|Account Coordinator|$10101.92|         -54.28115|       -123.04196|\n",
      "|    max|             1000|    Zulema| de Marco|  Male|‘Aşīrah al Qiblīyah|   Web Developer IV|$99948.28|          69.63186|        175.28227|\n",
      "+-------+-----------------+----------+---------+------+-------------------+-------------------+---------+------------------+-----------------+\n",
      "\n"
     ]
    }
   ],
   "source": [
    "df.describe().show()"
   ]
  },
  {
   "cell_type": "code",
   "execution_count": 22,
   "id": "2cb56488-b064-4e07-ad17-97c26f532a84",
   "metadata": {},
   "outputs": [
    {
     "data": {
      "text/plain": [
       "['id',\n",
       " 'first_name',\n",
       " 'last_name',\n",
       " 'gender',\n",
       " 'city',\n",
       " 'job_title',\n",
       " 'Salary',\n",
       " 'latitude',\n",
       " 'longitude']"
      ]
     },
     "execution_count": 22,
     "metadata": {},
     "output_type": "execute_result"
    }
   ],
   "source": [
    "df.columns"
   ]
  },
  {
   "cell_type": "code",
   "execution_count": 23,
   "id": "0de99e88-abf8-4731-99dd-42ebbfdc3356",
   "metadata": {},
   "outputs": [
    {
     "data": {
      "text/plain": [
       "1000"
      ]
     },
     "execution_count": 23,
     "metadata": {},
     "output_type": "execute_result"
    }
   ],
   "source": [
    "df.count()"
   ]
  },
  {
   "cell_type": "code",
   "execution_count": 24,
   "id": "7a7ef136-56fb-4d30-bdc7-64591f0e0c2e",
   "metadata": {},
   "outputs": [
    {
     "data": {
      "text/plain": [
       "1000"
      ]
     },
     "execution_count": 24,
     "metadata": {},
     "output_type": "execute_result"
    }
   ],
   "source": [
    "df.distinct().count()"
   ]
  },
  {
   "cell_type": "code",
   "execution_count": 25,
   "id": "baae1652-7f76-4363-ae2e-ea3f63ad8872",
   "metadata": {},
   "outputs": [
    {
     "data": {
      "text/plain": [
       "True"
      ]
     },
     "execution_count": 25,
     "metadata": {},
     "output_type": "execute_result"
    }
   ],
   "source": [
    "df.count() == df.distinct().count() # if there are duplicate rows then it will be false\n",
    "# other true"
   ]
  },
  {
   "cell_type": "code",
   "execution_count": 8,
   "id": "8b4e7549-84de-4d39-a876-756891891511",
   "metadata": {},
   "outputs": [
    {
     "data": {
      "text/plain": [
       "[Row(id=995, first_name='Niki', last_name='Ashbrook', gender='Male', city='Novozavidovskiy', job_title='Media Manager II', Salary='$67437.88', latitude=56.55147933959961, longitude=36.43471908569336),\n",
       " Row(id=996, first_name='Kathye', last_name='Grasser', gender='Female', city='Dzaoudzi', job_title='Accountant IV', Salary='$65520.45', latitude=-12.782212257385254, longitude=45.258209228515625),\n",
       " Row(id=997, first_name='Haskell', last_name='Kempston', gender='Male', city='Ban Talat Nua', job_title='Biostatistician I', Salary='$37021.92', latitude=7.912274360656738, longitude=98.3459701538086),\n",
       " Row(id=998, first_name='Holly-anne', last_name='Gerbl', gender='Female', city='Guanaja', job_title='Speech Pathologist', Salary='$16200.10', latitude=16.482662200927734, longitude=-85.87932586669922),\n",
       " Row(id=999, first_name='Marysa', last_name='Purdie', gender='Female', city='Sioah', job_title='Desktop Support Technician', Salary='$95912.44', latitude=5.586496353149414, longitude=95.35140228271484),\n",
       " Row(id=1000, first_name='Jewell', last_name='Haselden', gender='Female', city='Springfield', job_title='Business Systems Development Analyst', Salary='$30556.12', latitude=39.79999923706055, longitude=-89.6500015258789)]"
      ]
     },
     "execution_count": 8,
     "metadata": {},
     "output_type": "execute_result"
    }
   ],
   "source": [
    "df.tail(6)"
   ]
  },
  {
   "cell_type": "code",
   "execution_count": 10,
   "id": "7660b7c7-e945-432f-a006-6d6f3f219124",
   "metadata": {},
   "outputs": [
    {
     "data": {
      "text/plain": [
       "[Row(id=1, first_name='Melinde', last_name='Shilburne', gender='Female', city='Nowa Ruda', job_title='Assistant Professor', Salary='$57438.18', latitude=50.57740783691406, longitude=16.49671745300293),\n",
       " Row(id=2, first_name='Kimberly', last_name='Von Welden', gender='Female', city='Bulgan', job_title='Programmer II', Salary='$62846.60', latitude=48.823158264160156, longitude=103.52182006835938),\n",
       " Row(id=3, first_name='Alvera', last_name='Di Boldi', gender='Female', city=None, job_title=None, Salary='$57576.52', latitude=39.994747161865234, longitude=116.33977508544922),\n",
       " Row(id=4, first_name='Shannon', last_name=\"O'Griffin\", gender='Male', city='Divnomorskoye', job_title='Budget/Accounting Analyst II', Salary='$61489.23', latitude=44.504722595214844, longitude=38.1300163269043),\n",
       " Row(id=5, first_name='Sherwood', last_name='Macieja', gender='Male', city='Mytishchi', job_title='VP Sales', Salary='$63863.09', latitude=None, longitude=37.64899444580078),\n",
       " Row(id=6, first_name='Maris', last_name='Folk', gender='Female', city='Kinsealy-Drinan', job_title='Civil Engineer', Salary='$30101.16', latitude=53.426612854003906, longitude=-6.164499759674072),\n",
       " Row(id=7, first_name='Masha', last_name='Divers', gender='Female', city='Dachun', job_title=None, Salary='$25090.87', latitude=24.87941551208496, longitude=118.93011474609375),\n",
       " Row(id=8, first_name='Goddart', last_name='Flear', gender='Male', city='Trélissac', job_title='Desktop Support Technician', Salary='$46116.36', latitude=45.19051742553711, longitude=0.7423123717308044),\n",
       " Row(id=9, first_name='Roth', last_name=\"O'Cannavan\", gender='Male', city='Heitan', job_title='VP Product Management', Salary='$73697.10', latitude=32.02793502807617, longitude=106.65711212158203),\n",
       " Row(id=10, first_name='Bran', last_name='Trahear', gender='Male', city='Arbeláez', job_title='Mechanical Systems Engineer', Salary='$68098.42', latitude=4.272792816162109, longitude=-74.416015625)]"
      ]
     },
     "execution_count": 10,
     "metadata": {},
     "output_type": "execute_result"
    }
   ],
   "source": [
    "df.take(10)"
   ]
  },
  {
   "cell_type": "code",
   "execution_count": null,
   "id": "2df2c927-8630-491c-ad5d-c00a10760be4",
   "metadata": {},
   "outputs": [],
   "source": []
  }
 ],
 "metadata": {
  "kernelspec": {
   "display_name": "Python 3 (ipykernel)",
   "language": "python",
   "name": "python3"
  },
  "language_info": {
   "codemirror_mode": {
    "name": "ipython",
    "version": 3
   },
   "file_extension": ".py",
   "mimetype": "text/x-python",
   "name": "python",
   "nbconvert_exporter": "python",
   "pygments_lexer": "ipython3",
   "version": "3.11.7"
  }
 },
 "nbformat": 4,
 "nbformat_minor": 5
}
