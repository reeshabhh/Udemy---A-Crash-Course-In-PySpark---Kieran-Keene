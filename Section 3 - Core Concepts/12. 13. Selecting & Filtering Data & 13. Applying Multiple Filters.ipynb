{
 "cells": [
  {
   "cell_type": "code",
   "execution_count": 1,
   "id": "b95e141e-9756-495c-a623-8edb1160c2e6",
   "metadata": {},
   "outputs": [
    {
     "data": {
      "text/html": [
       "<style>pre { white-space: pre !important; }</style>"
      ],
      "text/plain": [
       "<IPython.core.display.HTML object>"
      ]
     },
     "metadata": {},
     "output_type": "display_data"
    },
    {
     "data": {
      "text/html": [
       "\n",
       "            <div>\n",
       "                <p><b>SparkSession - in-memory</b></p>\n",
       "                \n",
       "        <div>\n",
       "            <p><b>SparkContext</b></p>\n",
       "\n",
       "            <p><a href=\"http://Legion:4043\">Spark UI</a></p>\n",
       "\n",
       "            <dl>\n",
       "              <dt>Version</dt>\n",
       "                <dd><code>v3.5.0</code></dd>\n",
       "              <dt>Master</dt>\n",
       "                <dd><code>local[*]</code></dd>\n",
       "              <dt>AppName</dt>\n",
       "                <dd><code>pyspark-shell</code></dd>\n",
       "            </dl>\n",
       "        </div>\n",
       "        \n",
       "            </div>\n",
       "        "
      ],
      "text/plain": [
       "<pyspark.sql.session.SparkSession at 0x22622282090>"
      ]
     },
     "execution_count": 1,
     "metadata": {},
     "output_type": "execute_result"
    }
   ],
   "source": [
    "from IPython.core.display import HTML\n",
    "display(HTML(\"<style>pre { white-space: pre !important; }</style>\"))\n",
    "\n",
    "import findspark\n",
    "findspark.init()\n",
    "\n",
    "import pyspark\n",
    "from pyspark.sql import SparkSession\n",
    "spark = SparkSession.builder.master(\"local[*]\").getOrCreate()\n",
    "spark"
   ]
  },
  {
   "cell_type": "code",
   "execution_count": 2,
   "id": "0a28746c-301d-455e-83e2-ecf01bea4fca",
   "metadata": {},
   "outputs": [
    {
     "name": "stdout",
     "output_type": "stream",
     "text": [
      "+---+----------+----------+------+---------------+--------------------+---------+----------+----------+\n",
      "| id|first_name| last_name|gender|           city|           job_title|   Salary|  latitude| longitude|\n",
      "+---+----------+----------+------+---------------+--------------------+---------+----------+----------+\n",
      "|  1|   Melinde| Shilburne|Female|      Nowa Ruda| Assistant Professor|$57438.18| 50.577408| 16.496717|\n",
      "|  2|  Kimberly|Von Welden|Female|         Bulgan|       Programmer II|$62846.60|  48.82316| 103.52182|\n",
      "|  3|    Alvera|  Di Boldi|Female|           NULL|                NULL|$57576.52| 39.994747|116.339775|\n",
      "|  4|   Shannon| O'Griffin|  Male|  Divnomorskoye|Budget/Accounting...|$61489.23| 44.504723| 38.130016|\n",
      "|  5|  Sherwood|   Macieja|  Male|      Mytishchi|            VP Sales|$63863.09|      NULL| 37.648994|\n",
      "|  6|     Maris|      Folk|Female|Kinsealy-Drinan|      Civil Engineer|$30101.16| 53.426613|-6.1644998|\n",
      "|  7|     Masha|    Divers|Female|         Dachun|                NULL|$25090.87| 24.879416|118.930115|\n",
      "|  8|   Goddart|     Flear|  Male|      Trélissac|Desktop Support T...|$46116.36| 45.190517| 0.7423124|\n",
      "|  9|      Roth|O'Cannavan|  Male|         Heitan|VP Product Manage...|$73697.10| 32.027935| 106.65711|\n",
      "| 10|      Bran|   Trahear|  Male|       Arbeláez|Mechanical System...|$68098.42|  4.272793|-74.416016|\n",
      "| 11|    Kylynn|   Lockart|Female|       El Cardo|Nuclear Power Eng...|$13604.63|     -5.85| -79.88333|\n",
      "| 12|       Rey|    Meharg|Female|    Wangqingtuo|Systems Administr...|$73423.70|  39.17238| 116.93161|\n",
      "| 13|      Kerr|    Braden|  Male|      Sułkowice|Compensation Analyst|$33432.99|  49.81518| 19.377174|\n",
      "| 14|    Mickie| Whanstall|  Male|    Springfield|Assistant Media P...|$50838.53|  42.10148|-72.576675|\n",
      "| 15|    Kaspar|     Pally|  Male|         Chrást|  Analyst Programmer|$40163.03|  49.79233| 13.491532|\n",
      "| 16|    Norbie|    Gwyllt|  Male|         Xijiao|              Editor|$32492.73| 43.494576|  5.897802|\n",
      "| 17|    Claude|    Briant|Female|      Mieścisko|Research Assistan...|$51862.48| 52.744167| 17.327864|\n",
      "| 18|     Thain|    Habbon|  Male| Foros do Trapo|     Design Engineer|$42135.67| 38.696247| -8.709834|\n",
      "| 19|  Tiffanie|  Pattison|Female|    Jabungsisir|Senior Financial ...|$91925.08|-7.7232566| 113.46868|\n",
      "| 20|    Ettore|  Gerriets|  Male|          Pedra| Staff Accountant IV|$73921.33| 40.717205|-8.3625145|\n",
      "+---+----------+----------+------+---------------+--------------------+---------+----------+----------+\n",
      "only showing top 20 rows\n",
      "\n"
     ]
    }
   ],
   "source": [
    "from pyspark.sql.types import *\n",
    "\n",
    "myschema = StructType([\n",
    "    StructField('id', IntegerType()),\n",
    "    StructField('first_name', StringType()),\n",
    "    StructField('last_name', StringType()),\n",
    "    StructField('gender', StringType()),\n",
    "    StructField('city', StringType()),\n",
    "    StructField('job_title', StringType()),\n",
    "    StructField('Salary', StringType()),\n",
    "    StructField('latitude', FloatType()),\n",
    "    StructField('longitude', FloatType()),\n",
    "])\n",
    "\n",
    "df = spark.read.csv('original.csv', header=True, schema=myschema)\n",
    "df.show()"
   ]
  },
  {
   "cell_type": "code",
   "execution_count": 3,
   "id": "71c97130-b58e-4877-a91d-c1e7af309df3",
   "metadata": {},
   "outputs": [
    {
     "name": "stdout",
     "output_type": "stream",
     "text": [
      "+----------+----------+\n",
      "|first_name| last_name|\n",
      "+----------+----------+\n",
      "|   Melinde| Shilburne|\n",
      "|  Kimberly|Von Welden|\n",
      "|    Alvera|  Di Boldi|\n",
      "|   Shannon| O'Griffin|\n",
      "|  Sherwood|   Macieja|\n",
      "|     Maris|      Folk|\n",
      "|     Masha|    Divers|\n",
      "|   Goddart|     Flear|\n",
      "|      Roth|O'Cannavan|\n",
      "|      Bran|   Trahear|\n",
      "|    Kylynn|   Lockart|\n",
      "|       Rey|    Meharg|\n",
      "|      Kerr|    Braden|\n",
      "|    Mickie| Whanstall|\n",
      "|    Kaspar|     Pally|\n",
      "|    Norbie|    Gwyllt|\n",
      "|    Claude|    Briant|\n",
      "|     Thain|    Habbon|\n",
      "|  Tiffanie|  Pattison|\n",
      "|    Ettore|  Gerriets|\n",
      "+----------+----------+\n",
      "only showing top 20 rows\n",
      "\n"
     ]
    }
   ],
   "source": [
    "df_select = df.select('first_name', 'last_name')\n",
    "df_select.show()"
   ]
  },
  {
   "cell_type": "code",
   "execution_count": 5,
   "id": "5dd199f5-ae09-451c-b34f-60d9f4ef2cd9",
   "metadata": {},
   "outputs": [
    {
     "name": "stdout",
     "output_type": "stream",
     "text": [
      "+---+--------+----------+------+---------------+--------------------+---------+----------+----------+\n",
      "| id|      fn| last_name|gender|           city|           job_title|   Salary|  latitude| longitude|\n",
      "+---+--------+----------+------+---------------+--------------------+---------+----------+----------+\n",
      "|  1| Melinde| Shilburne|Female|      Nowa Ruda| Assistant Professor|$57438.18| 50.577408| 16.496717|\n",
      "|  2|Kimberly|Von Welden|Female|         Bulgan|       Programmer II|$62846.60|  48.82316| 103.52182|\n",
      "|  3|  Alvera|  Di Boldi|Female|           NULL|                NULL|$57576.52| 39.994747|116.339775|\n",
      "|  4| Shannon| O'Griffin|  Male|  Divnomorskoye|Budget/Accounting...|$61489.23| 44.504723| 38.130016|\n",
      "|  5|Sherwood|   Macieja|  Male|      Mytishchi|            VP Sales|$63863.09|      NULL| 37.648994|\n",
      "|  6|   Maris|      Folk|Female|Kinsealy-Drinan|      Civil Engineer|$30101.16| 53.426613|-6.1644998|\n",
      "|  7|   Masha|    Divers|Female|         Dachun|                NULL|$25090.87| 24.879416|118.930115|\n",
      "|  8| Goddart|     Flear|  Male|      Trélissac|Desktop Support T...|$46116.36| 45.190517| 0.7423124|\n",
      "|  9|    Roth|O'Cannavan|  Male|         Heitan|VP Product Manage...|$73697.10| 32.027935| 106.65711|\n",
      "| 10|    Bran|   Trahear|  Male|       Arbeláez|Mechanical System...|$68098.42|  4.272793|-74.416016|\n",
      "| 11|  Kylynn|   Lockart|Female|       El Cardo|Nuclear Power Eng...|$13604.63|     -5.85| -79.88333|\n",
      "| 12|     Rey|    Meharg|Female|    Wangqingtuo|Systems Administr...|$73423.70|  39.17238| 116.93161|\n",
      "| 13|    Kerr|    Braden|  Male|      Sułkowice|Compensation Analyst|$33432.99|  49.81518| 19.377174|\n",
      "| 14|  Mickie| Whanstall|  Male|    Springfield|Assistant Media P...|$50838.53|  42.10148|-72.576675|\n",
      "| 15|  Kaspar|     Pally|  Male|         Chrást|  Analyst Programmer|$40163.03|  49.79233| 13.491532|\n",
      "| 16|  Norbie|    Gwyllt|  Male|         Xijiao|              Editor|$32492.73| 43.494576|  5.897802|\n",
      "| 17|  Claude|    Briant|Female|      Mieścisko|Research Assistan...|$51862.48| 52.744167| 17.327864|\n",
      "| 18|   Thain|    Habbon|  Male| Foros do Trapo|     Design Engineer|$42135.67| 38.696247| -8.709834|\n",
      "| 19|Tiffanie|  Pattison|Female|    Jabungsisir|Senior Financial ...|$91925.08|-7.7232566| 113.46868|\n",
      "| 20|  Ettore|  Gerriets|  Male|          Pedra| Staff Accountant IV|$73921.33| 40.717205|-8.3625145|\n",
      "+---+--------+----------+------+---------------+--------------------+---------+----------+----------+\n",
      "only showing top 20 rows\n",
      "\n"
     ]
    }
   ],
   "source": [
    "df_renamed = df.withColumnRenamed('first_name', 'fn')\n",
    "df_renamed.show()"
   ]
  },
  {
   "cell_type": "code",
   "execution_count": 6,
   "id": "2810b967-9747-441e-9831-1fb2a883af4e",
   "metadata": {},
   "outputs": [
    {
     "name": "stdout",
     "output_type": "stream",
     "text": [
      "+---+----------+---------+------+----+---------+---------+---------+----------+\n",
      "| id|first_name|last_name|gender|city|job_title|   Salary| latitude| longitude|\n",
      "+---+----------+---------+------+----+---------+---------+---------+----------+\n",
      "|  3|    Alvera| Di Boldi|Female|NULL|     NULL|$57576.52|39.994747|116.339775|\n",
      "+---+----------+---------+------+----+---------+---------+---------+----------+\n",
      "\n"
     ]
    }
   ],
   "source": [
    "df_filter = df.filter(df.first_name == 'Alvera')\n",
    "df_filter.show()"
   ]
  },
  {
   "cell_type": "code",
   "execution_count": 7,
   "id": "ffd5e1ae-d5ea-4231-b196-abe36c412403",
   "metadata": {},
   "outputs": [
    {
     "name": "stdout",
     "output_type": "stream",
     "text": [
      "+---+----------+---------+------+----+---------+---------+---------+----------+\n",
      "| id|first_name|last_name|gender|city|job_title|   Salary| latitude| longitude|\n",
      "+---+----------+---------+------+----+---------+---------+---------+----------+\n",
      "|  3|    Alvera| Di Boldi|Female|NULL|     NULL|$57576.52|39.994747|116.339775|\n",
      "+---+----------+---------+------+----+---------+---------+---------+----------+\n",
      "\n"
     ]
    }
   ],
   "source": [
    "df_filter = df.filter(df.first_name.like('%lvera'))\n",
    "df_filter.show()"
   ]
  },
  {
   "cell_type": "code",
   "execution_count": 10,
   "id": "d56b2ed1-4767-4386-934b-b5df9755cb51",
   "metadata": {},
   "outputs": [
    {
     "name": "stdout",
     "output_type": "stream",
     "text": [
      "+---+----------+---------+------+----------+-------------------+---------+---------+----------+\n",
      "| id|first_name|last_name|gender|      city|          job_title|   Salary| latitude| longitude|\n",
      "+---+----------+---------+------+----------+-------------------+---------+---------+----------+\n",
      "|  3|    Alvera| Di Boldi|Female|      NULL|               NULL|$57576.52|39.994747|116.339775|\n",
      "|775|   Alverta| MacNulty|Female|Megalópoli|Geological Engineer|$17299.62|37.401245| 22.136488|\n",
      "+---+----------+---------+------+----------+-------------------+---------+---------+----------+\n",
      "\n"
     ]
    }
   ],
   "source": [
    "df_filter = df.filter(df.first_name.like('%lver%'))\n",
    "df_filter.show()"
   ]
  },
  {
   "cell_type": "code",
   "execution_count": 11,
   "id": "514fc86c-1e11-4315-a639-798d690cdd17",
   "metadata": {},
   "outputs": [
    {
     "name": "stdout",
     "output_type": "stream",
     "text": [
      "+---+----------+---------+------+----------+-------------------+---------+---------+---------+\n",
      "| id|first_name|last_name|gender|      city|          job_title|   Salary| latitude|longitude|\n",
      "+---+----------+---------+------+----------+-------------------+---------+---------+---------+\n",
      "|775|   Alverta| MacNulty|Female|Megalópoli|Geological Engineer|$17299.62|37.401245|22.136488|\n",
      "+---+----------+---------+------+----------+-------------------+---------+---------+---------+\n",
      "\n"
     ]
    }
   ],
   "source": [
    "df_filter = df.filter(df.first_name.like('%lverta%'))\n",
    "df_filter.show()"
   ]
  },
  {
   "cell_type": "code",
   "execution_count": 8,
   "id": "b7cfcb21-04a2-4190-94de-04dae7d3bbb0",
   "metadata": {},
   "outputs": [
    {
     "name": "stdout",
     "output_type": "stream",
     "text": [
      "+---+----------+----------+------+---------------+--------------------+---------+----------+----------+\n",
      "| id|first_name| last_name|gender|           city|           job_title|   Salary|  latitude| longitude|\n",
      "+---+----------+----------+------+---------------+--------------------+---------+----------+----------+\n",
      "|  1|   Melinde| Shilburne|Female|      Nowa Ruda| Assistant Professor|$57438.18| 50.577408| 16.496717|\n",
      "|  2|  Kimberly|Von Welden|Female|         Bulgan|       Programmer II|$62846.60|  48.82316| 103.52182|\n",
      "|  3|    Alvera|  Di Boldi|Female|           NULL|                NULL|$57576.52| 39.994747|116.339775|\n",
      "|  4|   Shannon| O'Griffin|  Male|  Divnomorskoye|Budget/Accounting...|$61489.23| 44.504723| 38.130016|\n",
      "|  5|  Sherwood|   Macieja|  Male|      Mytishchi|            VP Sales|$63863.09|      NULL| 37.648994|\n",
      "|  6|     Maris|      Folk|Female|Kinsealy-Drinan|      Civil Engineer|$30101.16| 53.426613|-6.1644998|\n",
      "|  7|     Masha|    Divers|Female|         Dachun|                NULL|$25090.87| 24.879416|118.930115|\n",
      "|  8|   Goddart|     Flear|  Male|      Trélissac|Desktop Support T...|$46116.36| 45.190517| 0.7423124|\n",
      "|  9|      Roth|O'Cannavan|  Male|         Heitan|VP Product Manage...|$73697.10| 32.027935| 106.65711|\n",
      "| 10|      Bran|   Trahear|  Male|       Arbeláez|Mechanical System...|$68098.42|  4.272793|-74.416016|\n",
      "| 11|    Kylynn|   Lockart|Female|       El Cardo|Nuclear Power Eng...|$13604.63|     -5.85| -79.88333|\n",
      "| 12|       Rey|    Meharg|Female|    Wangqingtuo|Systems Administr...|$73423.70|  39.17238| 116.93161|\n",
      "| 13|      Kerr|    Braden|  Male|      Sułkowice|Compensation Analyst|$33432.99|  49.81518| 19.377174|\n",
      "| 14|    Mickie| Whanstall|  Male|    Springfield|Assistant Media P...|$50838.53|  42.10148|-72.576675|\n",
      "| 15|    Kaspar|     Pally|  Male|         Chrást|  Analyst Programmer|$40163.03|  49.79233| 13.491532|\n",
      "| 16|    Norbie|    Gwyllt|  Male|         Xijiao|              Editor|$32492.73| 43.494576|  5.897802|\n",
      "| 17|    Claude|    Briant|Female|      Mieścisko|Research Assistan...|$51862.48| 52.744167| 17.327864|\n",
      "| 18|     Thain|    Habbon|  Male| Foros do Trapo|     Design Engineer|$42135.67| 38.696247| -8.709834|\n",
      "| 19|  Tiffanie|  Pattison|Female|    Jabungsisir|Senior Financial ...|$91925.08|-7.7232566| 113.46868|\n",
      "| 20|    Ettore|  Gerriets|  Male|          Pedra| Staff Accountant IV|$73921.33| 40.717205|-8.3625145|\n",
      "+---+----------+----------+------+---------------+--------------------+---------+----------+----------+\n",
      "only showing top 20 rows\n",
      "\n"
     ]
    }
   ],
   "source": [
    "df_filter = df.filter(df.first_name.like('%'))\n",
    "df_filter.show()"
   ]
  },
  {
   "cell_type": "code",
   "execution_count": 9,
   "id": "76f4e2f8-2779-46f1-88c4-e479700c0550",
   "metadata": {},
   "outputs": [
    {
     "name": "stdout",
     "output_type": "stream",
     "text": [
      "+---+----------+-------------+------+-----------+---------+---------+----------+---------+\n",
      "| id|first_name|    last_name|gender|       city|job_title|   Salary|  latitude|longitude|\n",
      "+---+----------+-------------+------+-----------+---------+---------+----------+---------+\n",
      "|901|     Aldin|Matuszkiewicz|  Male|East London| Operator|$41468.83|-32.954933|27.931913|\n",
      "+---+----------+-------------+------+-----------+---------+---------+----------+---------+\n",
      "\n"
     ]
    }
   ],
   "source": [
    "df_filter = df.filter(df.first_name.endswith('din'))\n",
    "df_filter.show()"
   ]
  },
  {
   "cell_type": "code",
   "execution_count": 14,
   "id": "80d0d62e-ba66-41cf-b36b-d69cb9671191",
   "metadata": {},
   "outputs": [
    {
     "name": "stdout",
     "output_type": "stream",
     "text": [
      "+---+----------+-------------+------+-----------+---------+---------+----------+---------+\n",
      "| id|first_name|    last_name|gender|       city|job_title|   Salary|  latitude|longitude|\n",
      "+---+----------+-------------+------+-----------+---------+---------+----------+---------+\n",
      "|901|     Aldin|Matuszkiewicz|  Male|East London| Operator|$41468.83|-32.954933|27.931913|\n",
      "+---+----------+-------------+------+-----------+---------+---------+----------+---------+\n",
      "\n"
     ]
    }
   ],
   "source": [
    "df_filter = df.filter(df.first_name.like('%din'))\n",
    "df_filter.show()"
   ]
  },
  {
   "cell_type": "code",
   "execution_count": 12,
   "id": "eb085527-1902-4d88-a020-1b29f99141ac",
   "metadata": {},
   "outputs": [
    {
     "name": "stdout",
     "output_type": "stream",
     "text": [
      "+---+----------+---------+------+----------+--------------------+---------+---------+----------+\n",
      "| id|first_name|last_name|gender|      city|           job_title|   Salary| latitude| longitude|\n",
      "+---+----------+---------+------+----------+--------------------+---------+---------+----------+\n",
      "|  3|    Alvera| Di Boldi|Female|      NULL|                NULL|$57576.52|39.994747|116.339775|\n",
      "| 81|     Alvin|    Doman|  Male|      Niny|Research Assistant I|$53258.86|44.486843| 43.940807|\n",
      "|775|   Alverta| MacNulty|Female|Megalópoli| Geological Engineer|$17299.62|37.401245| 22.136488|\n",
      "+---+----------+---------+------+----------+--------------------+---------+---------+----------+\n",
      "\n"
     ]
    }
   ],
   "source": [
    "df_filter = df.filter(df.first_name.startswith('Alv'))\n",
    "df_filter.show()"
   ]
  },
  {
   "cell_type": "code",
   "execution_count": 15,
   "id": "9abff5d2-c8fa-4185-87af-e5021f58449f",
   "metadata": {},
   "outputs": [
    {
     "name": "stdout",
     "output_type": "stream",
     "text": [
      "+---+----------+---------+------+----------+--------------------+---------+---------+----------+\n",
      "| id|first_name|last_name|gender|      city|           job_title|   Salary| latitude| longitude|\n",
      "+---+----------+---------+------+----------+--------------------+---------+---------+----------+\n",
      "|  3|    Alvera| Di Boldi|Female|      NULL|                NULL|$57576.52|39.994747|116.339775|\n",
      "| 81|     Alvin|    Doman|  Male|      Niny|Research Assistant I|$53258.86|44.486843| 43.940807|\n",
      "|775|   Alverta| MacNulty|Female|Megalópoli| Geological Engineer|$17299.62|37.401245| 22.136488|\n",
      "+---+----------+---------+------+----------+--------------------+---------+---------+----------+\n",
      "\n"
     ]
    }
   ],
   "source": [
    "df_filter = df.filter(df.first_name.like('Alv%'))\n",
    "df_filter.show()"
   ]
  },
  {
   "cell_type": "code",
   "execution_count": 16,
   "id": "e16d43b4-ce84-4248-9124-976c81154c28",
   "metadata": {},
   "outputs": [
    {
     "name": "stdout",
     "output_type": "stream",
     "text": [
      "+---+----------+----------+------+-------------+--------------------+---------+---------+----------+\n",
      "| id|first_name| last_name|gender|         city|           job_title|   Salary| latitude| longitude|\n",
      "+---+----------+----------+------+-------------+--------------------+---------+---------+----------+\n",
      "|  1|   Melinde| Shilburne|Female|    Nowa Ruda| Assistant Professor|$57438.18|50.577408| 16.496717|\n",
      "|  2|  Kimberly|Von Welden|Female|       Bulgan|       Programmer II|$62846.60| 48.82316| 103.52182|\n",
      "|  3|    Alvera|  Di Boldi|Female|         NULL|                NULL|$57576.52|39.994747|116.339775|\n",
      "|  4|   Shannon| O'Griffin|  Male|Divnomorskoye|Budget/Accounting...|$61489.23|44.504723| 38.130016|\n",
      "|  5|  Sherwood|   Macieja|  Male|    Mytishchi|            VP Sales|$63863.09|     NULL| 37.648994|\n",
      "+---+----------+----------+------+-------------+--------------------+---------+---------+----------+\n",
      "\n"
     ]
    }
   ],
   "source": [
    "df_filter = df.filter(df.id.between(1, 5))\n",
    "df_filter.show()"
   ]
  },
  {
   "cell_type": "code",
   "execution_count": 17,
   "id": "43560818-51d6-41db-98e7-ab24b3fa198a",
   "metadata": {},
   "outputs": [
    {
     "name": "stdout",
     "output_type": "stream",
     "text": [
      "+---+----------+-------------+------+-----------+----------------+---------+----------+---------+\n",
      "| id|first_name|    last_name|gender|       city|       job_title|   Salary|  latitude|longitude|\n",
      "+---+----------+-------------+------+-----------+----------------+---------+----------+---------+\n",
      "|569|     Valma|      Bratton|Female|  Kurayoshi|Web Developer II|$32665.89| 35.449905|133.76134|\n",
      "|901|     Aldin|Matuszkiewicz|  Male|East London|        Operator|$41468.83|-32.954933|27.931913|\n",
      "+---+----------+-------------+------+-----------+----------------+---------+----------+---------+\n",
      "\n"
     ]
    }
   ],
   "source": [
    "df_filter = df.filter(df.first_name.isin('Aldin', 'Valma'))\n",
    "df_filter.show()"
   ]
  },
  {
   "cell_type": "code",
   "execution_count": 20,
   "id": "2c5cf9d9-c9cf-4999-b243-a558d44c10ee",
   "metadata": {},
   "outputs": [
    {
     "name": "stdout",
     "output_type": "stream",
     "text": [
      "+----------+-----+\n",
      "|first_name| name|\n",
      "+----------+-----+\n",
      "|   Melinde|Melin|\n",
      "|  Kimberly|Kimbe|\n",
      "|    Alvera|Alver|\n",
      "|   Shannon|Shann|\n",
      "|  Sherwood|Sherw|\n",
      "|     Maris|Maris|\n",
      "|     Masha|Masha|\n",
      "|   Goddart|Godda|\n",
      "|      Roth| Roth|\n",
      "|      Bran| Bran|\n",
      "|    Kylynn|Kylyn|\n",
      "|       Rey|  Rey|\n",
      "|      Kerr| Kerr|\n",
      "|    Mickie|Micki|\n",
      "|    Kaspar|Kaspa|\n",
      "|    Norbie|Norbi|\n",
      "|    Claude|Claud|\n",
      "|     Thain|Thain|\n",
      "|  Tiffanie|Tiffa|\n",
      "|    Ettore|Ettor|\n",
      "+----------+-----+\n",
      "only showing top 20 rows\n",
      "\n"
     ]
    }
   ],
   "source": [
    "df_substr = df.select(df.first_name, df.first_name.substr(1, 5).alias('name')) # substr(starting_position, length)\n",
    "df_substr.show()"
   ]
  },
  {
   "cell_type": "code",
   "execution_count": 21,
   "id": "8f0a243b-1890-4454-87b8-141b7c2cb30d",
   "metadata": {},
   "outputs": [
    {
     "name": "stdout",
     "output_type": "stream",
     "text": [
      "+----------+----+\n",
      "|first_name|name|\n",
      "+----------+----+\n",
      "|   Melinde|    |\n",
      "|  Kimberly|    |\n",
      "|    Alvera|    |\n",
      "|   Shannon|    |\n",
      "|  Sherwood|    |\n",
      "|     Maris|    |\n",
      "|     Masha|    |\n",
      "|   Goddart|    |\n",
      "|      Roth|    |\n",
      "|      Bran|    |\n",
      "|    Kylynn|    |\n",
      "|       Rey|    |\n",
      "|      Kerr|    |\n",
      "|    Mickie|    |\n",
      "|    Kaspar|    |\n",
      "|    Norbie|    |\n",
      "|    Claude|    |\n",
      "|     Thain|    |\n",
      "|  Tiffanie|    |\n",
      "|    Ettore|    |\n",
      "+----------+----+\n",
      "only showing top 20 rows\n",
      "\n"
     ]
    }
   ],
   "source": [
    "df_substr = df.select(df.first_name, df.first_name.substr(1, 0).alias('name'))\n",
    "df_substr.show()"
   ]
  },
  {
   "cell_type": "code",
   "execution_count": 22,
   "id": "687fb094-4ab9-4f51-8261-9d22bdc05d76",
   "metadata": {},
   "outputs": [
    {
     "name": "stdout",
     "output_type": "stream",
     "text": [
      "+----------+----+\n",
      "|first_name|name|\n",
      "+----------+----+\n",
      "|   Melinde|   M|\n",
      "|  Kimberly|   K|\n",
      "|    Alvera|   A|\n",
      "|   Shannon|   S|\n",
      "|  Sherwood|   S|\n",
      "|     Maris|   M|\n",
      "|     Masha|   M|\n",
      "|   Goddart|   G|\n",
      "|      Roth|   R|\n",
      "|      Bran|   B|\n",
      "|    Kylynn|   K|\n",
      "|       Rey|   R|\n",
      "|      Kerr|   K|\n",
      "|    Mickie|   M|\n",
      "|    Kaspar|   K|\n",
      "|    Norbie|   N|\n",
      "|    Claude|   C|\n",
      "|     Thain|   T|\n",
      "|  Tiffanie|   T|\n",
      "|    Ettore|   E|\n",
      "+----------+----+\n",
      "only showing top 20 rows\n",
      "\n"
     ]
    }
   ],
   "source": [
    "df_substr = df.select(df.first_name, df.first_name.substr(1, 1).alias('name'))\n",
    "df_substr.show()"
   ]
  },
  {
   "cell_type": "code",
   "execution_count": 24,
   "id": "043b7051-23ee-4d27-a795-484baad751b3",
   "metadata": {},
   "outputs": [
    {
     "name": "stdout",
     "output_type": "stream",
     "text": [
      "+----------+----+\n",
      "|first_name|name|\n",
      "+----------+----+\n",
      "|   Melinde|   e|\n",
      "|  Kimberly|   i|\n",
      "|    Alvera|   l|\n",
      "|   Shannon|   h|\n",
      "|  Sherwood|   h|\n",
      "|     Maris|   a|\n",
      "|     Masha|   a|\n",
      "|   Goddart|   o|\n",
      "|      Roth|   o|\n",
      "|      Bran|   r|\n",
      "|    Kylynn|   y|\n",
      "|       Rey|   e|\n",
      "|      Kerr|   e|\n",
      "|    Mickie|   i|\n",
      "|    Kaspar|   a|\n",
      "|    Norbie|   o|\n",
      "|    Claude|   l|\n",
      "|     Thain|   h|\n",
      "|  Tiffanie|   i|\n",
      "|    Ettore|   t|\n",
      "+----------+----+\n",
      "only showing top 20 rows\n",
      "\n"
     ]
    }
   ],
   "source": [
    "df_substr = df.select(df.first_name, df.first_name.substr(2, 1).alias('name'))\n",
    "df_substr.show()"
   ]
  },
  {
   "cell_type": "code",
   "execution_count": 25,
   "id": "9f6dfc18-af71-4b34-8736-b1ac888d2114",
   "metadata": {},
   "outputs": [
    {
     "name": "stdout",
     "output_type": "stream",
     "text": [
      "+----------+----+\n",
      "|first_name|name|\n",
      "+----------+----+\n",
      "|   Melinde| eli|\n",
      "|  Kimberly| imb|\n",
      "|    Alvera| lve|\n",
      "|   Shannon| han|\n",
      "|  Sherwood| her|\n",
      "|     Maris| ari|\n",
      "|     Masha| ash|\n",
      "|   Goddart| odd|\n",
      "|      Roth| oth|\n",
      "|      Bran| ran|\n",
      "|    Kylynn| yly|\n",
      "|       Rey|  ey|\n",
      "|      Kerr| err|\n",
      "|    Mickie| ick|\n",
      "|    Kaspar| asp|\n",
      "|    Norbie| orb|\n",
      "|    Claude| lau|\n",
      "|     Thain| hai|\n",
      "|  Tiffanie| iff|\n",
      "|    Ettore| tto|\n",
      "+----------+----+\n",
      "only showing top 20 rows\n",
      "\n"
     ]
    }
   ],
   "source": [
    "df_substr = df.select(df.first_name, df.first_name.substr(2, 3).alias('name'))\n",
    "df_substr.show()"
   ]
  },
  {
   "cell_type": "markdown",
   "id": "1eb5f140-8f42-47fa-82ec-8cad761bd94e",
   "metadata": {},
   "source": [
    "#### 13. Applying Multiple Filters"
   ]
  },
  {
   "cell_type": "code",
   "execution_count": 27,
   "id": "0bc74740-409c-4103-bf68-eeaf007b4835",
   "metadata": {},
   "outputs": [
    {
     "name": "stdout",
     "output_type": "stream",
     "text": [
      "+---+----------+-------------+------+-----------+---------+---------+----------+---------+\n",
      "| id|first_name|    last_name|gender|       city|job_title|   Salary|  latitude|longitude|\n",
      "+---+----------+-------------+------+-----------+---------+---------+----------+---------+\n",
      "|901|     Aldin|Matuszkiewicz|  Male|East London| Operator|$41468.83|-32.954933|27.931913|\n",
      "+---+----------+-------------+------+-----------+---------+---------+----------+---------+\n",
      "\n"
     ]
    }
   ],
   "source": [
    "df_filter = df.filter((df.first_name.isin('Aldin', 'Valma')) & (df.city.like('%ondon')))\n",
    "df_filter.show()"
   ]
  },
  {
   "cell_type": "code",
   "execution_count": 28,
   "id": "72c6e885-293a-4de2-aa3e-6a42aaafea37",
   "metadata": {},
   "outputs": [
    {
     "name": "stdout",
     "output_type": "stream",
     "text": [
      "+---+----------+-------------+------+-----------+----------------+---------+----------+---------+\n",
      "| id|first_name|    last_name|gender|       city|       job_title|   Salary|  latitude|longitude|\n",
      "+---+----------+-------------+------+-----------+----------------+---------+----------+---------+\n",
      "|569|     Valma|      Bratton|Female|  Kurayoshi|Web Developer II|$32665.89| 35.449905|133.76134|\n",
      "|901|     Aldin|Matuszkiewicz|  Male|East London|        Operator|$41468.83|-32.954933|27.931913|\n",
      "+---+----------+-------------+------+-----------+----------------+---------+----------+---------+\n",
      "\n"
     ]
    }
   ],
   "source": [
    "df_filter = df.filter((df.first_name.isin('Aldin', 'Valma')))\n",
    "df_filter.show()"
   ]
  },
  {
   "cell_type": "code",
   "execution_count": 29,
   "id": "a88407f3-54c7-43d9-bfd8-39b4f213f1cd",
   "metadata": {},
   "outputs": [
    {
     "name": "stdout",
     "output_type": "stream",
     "text": [
      "+---+----------+-------------+------+-----------+----------------+---------+----------+---------+\n",
      "| id|first_name|    last_name|gender|       city|       job_title|   Salary|  latitude|longitude|\n",
      "+---+----------+-------------+------+-----------+----------------+---------+----------+---------+\n",
      "|569|     Valma|      Bratton|Female|  Kurayoshi|Web Developer II|$32665.89| 35.449905|133.76134|\n",
      "|901|     Aldin|Matuszkiewicz|  Male|East London|        Operator|$41468.83|-32.954933|27.931913|\n",
      "+---+----------+-------------+------+-----------+----------------+---------+----------+---------+\n",
      "\n"
     ]
    }
   ],
   "source": [
    "df_filter = df.filter((df.first_name.isin('Aldin', 'Valma')) | (df.city.like('%ondon')))\n",
    "df_filter.show()"
   ]
  },
  {
   "cell_type": "code",
   "execution_count": 32,
   "id": "733c8cf7-65a6-428f-8ca2-5117a9d34eea",
   "metadata": {},
   "outputs": [
    {
     "name": "stdout",
     "output_type": "stream",
     "text": [
      "+---+----------+-------------+------+-----------+---------+---------+----------+---------+\n",
      "| id|first_name|    last_name|gender|       city|job_title|   Salary|  latitude|longitude|\n",
      "+---+----------+-------------+------+-----------+---------+---------+----------+---------+\n",
      "|901|     Aldin|Matuszkiewicz|  Male|East London| Operator|$41468.83|-32.954933|27.931913|\n",
      "+---+----------+-------------+------+-----------+---------+---------+----------+---------+\n",
      "\n"
     ]
    }
   ],
   "source": [
    "df_filter = df.filter(df.city.like('%ondon'))\n",
    "df_filter.show()"
   ]
  },
  {
   "cell_type": "code",
   "execution_count": 41,
   "id": "1f955de1-b824-457e-b8f2-1f742e10a4c6",
   "metadata": {},
   "outputs": [
    {
     "name": "stdout",
     "output_type": "stream",
     "text": [
      "+---+----------+---------+------+--------------+--------------------+---------+----------+----------+\n",
      "| id|first_name|last_name|gender|          city|           job_title|   Salary|  latitude| longitude|\n",
      "+---+----------+---------+------+--------------+--------------------+---------+----------+----------+\n",
      "| 11|    Kylynn|  Lockart|Female|      El Cardo|Nuclear Power Eng...|$13604.63|     -5.85| -79.88333|\n",
      "| 12|       Rey|   Meharg|Female|   Wangqingtuo|Systems Administr...|$73423.70|  39.17238| 116.93161|\n",
      "| 13|      Kerr|   Braden|  Male|     Sułkowice|Compensation Analyst|$33432.99|  49.81518| 19.377174|\n",
      "| 14|    Mickie|Whanstall|  Male|   Springfield|Assistant Media P...|$50838.53|  42.10148|-72.576675|\n",
      "| 15|    Kaspar|    Pally|  Male|        Chrást|  Analyst Programmer|$40163.03|  49.79233| 13.491532|\n",
      "| 16|    Norbie|   Gwyllt|  Male|        Xijiao|              Editor|$32492.73| 43.494576|  5.897802|\n",
      "| 17|    Claude|   Briant|Female|     Mieścisko|Research Assistan...|$51862.48| 52.744167| 17.327864|\n",
      "| 18|     Thain|   Habbon|  Male|Foros do Trapo|     Design Engineer|$42135.67| 38.696247| -8.709834|\n",
      "| 19|  Tiffanie| Pattison|Female|   Jabungsisir|Senior Financial ...|$91925.08|-7.7232566| 113.46868|\n",
      "| 20|    Ettore| Gerriets|  Male|         Pedra| Staff Accountant IV|$73921.33| 40.717205|-8.3625145|\n",
      "| 21|      Alon| Chasteau|  Male|         Xin’e|     Web Developer I|$62755.85|  49.16291| 127.98658|\n",
      "| 22|   Guthrey|   Johnke|  Male|        Xijiao|         Developer I|$13708.03| 40.757683| 23.134218|\n",
      "| 23|   Lurleen|  Janczak|Female|     Rozkishne|    Web Developer IV|$29384.72|  48.49028|  39.27122|\n",
      "| 24|    Nichol|   Holtum|Female|         Město|           Paralegal|$27797.98| 49.971825| 12.884627|\n",
      "+---+----------+---------+------+--------------+--------------------+---------+----------+----------+\n",
      "\n"
     ]
    }
   ],
   "source": [
    "df_filter = df.filter((df.id > 10) & (df.id < 25))\n",
    "df_filter.show()"
   ]
  },
  {
   "cell_type": "code",
   "execution_count": 40,
   "id": "2a25f64c-7ad5-4a5c-8a0d-8d125a751475",
   "metadata": {},
   "outputs": [
    {
     "name": "stdout",
     "output_type": "stream",
     "text": [
      "+---+----------+---------+------+--------------+--------------------+---------+----------+----------+\n",
      "| id|first_name|last_name|gender|          city|           job_title|   Salary|  latitude| longitude|\n",
      "+---+----------+---------+------+--------------+--------------------+---------+----------+----------+\n",
      "| 10|      Bran|  Trahear|  Male|      Arbeláez|Mechanical System...|$68098.42|  4.272793|-74.416016|\n",
      "| 11|    Kylynn|  Lockart|Female|      El Cardo|Nuclear Power Eng...|$13604.63|     -5.85| -79.88333|\n",
      "| 12|       Rey|   Meharg|Female|   Wangqingtuo|Systems Administr...|$73423.70|  39.17238| 116.93161|\n",
      "| 13|      Kerr|   Braden|  Male|     Sułkowice|Compensation Analyst|$33432.99|  49.81518| 19.377174|\n",
      "| 14|    Mickie|Whanstall|  Male|   Springfield|Assistant Media P...|$50838.53|  42.10148|-72.576675|\n",
      "| 15|    Kaspar|    Pally|  Male|        Chrást|  Analyst Programmer|$40163.03|  49.79233| 13.491532|\n",
      "| 16|    Norbie|   Gwyllt|  Male|        Xijiao|              Editor|$32492.73| 43.494576|  5.897802|\n",
      "| 17|    Claude|   Briant|Female|     Mieścisko|Research Assistan...|$51862.48| 52.744167| 17.327864|\n",
      "| 18|     Thain|   Habbon|  Male|Foros do Trapo|     Design Engineer|$42135.67| 38.696247| -8.709834|\n",
      "| 19|  Tiffanie| Pattison|Female|   Jabungsisir|Senior Financial ...|$91925.08|-7.7232566| 113.46868|\n",
      "| 20|    Ettore| Gerriets|  Male|         Pedra| Staff Accountant IV|$73921.33| 40.717205|-8.3625145|\n",
      "| 21|      Alon| Chasteau|  Male|         Xin’e|     Web Developer I|$62755.85|  49.16291| 127.98658|\n",
      "| 22|   Guthrey|   Johnke|  Male|        Xijiao|         Developer I|$13708.03| 40.757683| 23.134218|\n",
      "| 23|   Lurleen|  Janczak|Female|     Rozkishne|    Web Developer IV|$29384.72|  48.49028|  39.27122|\n",
      "| 24|    Nichol|   Holtum|Female|         Město|           Paralegal|$27797.98| 49.971825| 12.884627|\n",
      "| 25|     Shaun|   Bridle|Female|         Xitou| Office Assistant IV|$71279.60| 29.866917|118.403786|\n",
      "+---+----------+---------+------+--------------+--------------------+---------+----------+----------+\n",
      "\n"
     ]
    }
   ],
   "source": [
    "df_filter = df.filter(df.id.between(10, 25))\n",
    "df_filter.show()"
   ]
  },
  {
   "cell_type": "code",
   "execution_count": 42,
   "id": "099bbf01-021e-4ecd-bea0-1c66b649196b",
   "metadata": {},
   "outputs": [
    {
     "name": "stdout",
     "output_type": "stream",
     "text": [
      "+---+----------+---------+------+--------------+--------------------+---------+----------+----------+\n",
      "| id|first_name|last_name|gender|          city|           job_title|   Salary|  latitude| longitude|\n",
      "+---+----------+---------+------+--------------+--------------------+---------+----------+----------+\n",
      "| 10|      Bran|  Trahear|  Male|      Arbeláez|Mechanical System...|$68098.42|  4.272793|-74.416016|\n",
      "| 11|    Kylynn|  Lockart|Female|      El Cardo|Nuclear Power Eng...|$13604.63|     -5.85| -79.88333|\n",
      "| 12|       Rey|   Meharg|Female|   Wangqingtuo|Systems Administr...|$73423.70|  39.17238| 116.93161|\n",
      "| 13|      Kerr|   Braden|  Male|     Sułkowice|Compensation Analyst|$33432.99|  49.81518| 19.377174|\n",
      "| 14|    Mickie|Whanstall|  Male|   Springfield|Assistant Media P...|$50838.53|  42.10148|-72.576675|\n",
      "| 15|    Kaspar|    Pally|  Male|        Chrást|  Analyst Programmer|$40163.03|  49.79233| 13.491532|\n",
      "| 16|    Norbie|   Gwyllt|  Male|        Xijiao|              Editor|$32492.73| 43.494576|  5.897802|\n",
      "| 17|    Claude|   Briant|Female|     Mieścisko|Research Assistan...|$51862.48| 52.744167| 17.327864|\n",
      "| 18|     Thain|   Habbon|  Male|Foros do Trapo|     Design Engineer|$42135.67| 38.696247| -8.709834|\n",
      "| 19|  Tiffanie| Pattison|Female|   Jabungsisir|Senior Financial ...|$91925.08|-7.7232566| 113.46868|\n",
      "| 20|    Ettore| Gerriets|  Male|         Pedra| Staff Accountant IV|$73921.33| 40.717205|-8.3625145|\n",
      "| 21|      Alon| Chasteau|  Male|         Xin’e|     Web Developer I|$62755.85|  49.16291| 127.98658|\n",
      "| 22|   Guthrey|   Johnke|  Male|        Xijiao|         Developer I|$13708.03| 40.757683| 23.134218|\n",
      "| 23|   Lurleen|  Janczak|Female|     Rozkishne|    Web Developer IV|$29384.72|  48.49028|  39.27122|\n",
      "| 24|    Nichol|   Holtum|Female|         Město|           Paralegal|$27797.98| 49.971825| 12.884627|\n",
      "| 25|     Shaun|   Bridle|Female|         Xitou| Office Assistant IV|$71279.60| 29.866917|118.403786|\n",
      "+---+----------+---------+------+--------------+--------------------+---------+----------+----------+\n",
      "\n"
     ]
    }
   ],
   "source": [
    "df_filter = df.filter((df.id >= 10) & (df.id <= 25))\n",
    "df_filter.show()"
   ]
  },
  {
   "cell_type": "code",
   "execution_count": null,
   "id": "c4f439c2-2272-4e40-9dca-4e87efb3c4a8",
   "metadata": {},
   "outputs": [],
   "source": []
  },
  {
   "cell_type": "code",
   "execution_count": null,
   "id": "3d22335c-ae95-4338-a3c3-65aed862e46f",
   "metadata": {},
   "outputs": [],
   "source": []
  },
  {
   "cell_type": "code",
   "execution_count": null,
   "id": "2fe83421-dbc9-444b-a5c2-c2a2eaad414b",
   "metadata": {},
   "outputs": [],
   "source": []
  },
  {
   "cell_type": "code",
   "execution_count": null,
   "id": "e402e882-ab46-49d7-88e2-ef28492b9f96",
   "metadata": {},
   "outputs": [],
   "source": []
  }
 ],
 "metadata": {
  "kernelspec": {
   "display_name": "Python 3 (ipykernel)",
   "language": "python",
   "name": "python3"
  },
  "language_info": {
   "codemirror_mode": {
    "name": "ipython",
    "version": 3
   },
   "file_extension": ".py",
   "mimetype": "text/x-python",
   "name": "python",
   "nbconvert_exporter": "python",
   "pygments_lexer": "ipython3",
   "version": "3.11.7"
  }
 },
 "nbformat": 4,
 "nbformat_minor": 5
}
